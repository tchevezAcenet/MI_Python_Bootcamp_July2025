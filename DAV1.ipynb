{
 "cells": [
  {
   "cell_type": "markdown",
   "id": "54e3455a-2d45-4a7e-9eda-0d017566905d",
   "metadata": {
    "tags": []
   },
   "source": [
    "# Data Analytics and Visualization (part 1)"
   ]
  },
  {
   "cell_type": "markdown",
   "id": "c24ae556-7453-4437-997c-f5ee4febecf9",
   "metadata": {},
   "source": [
    "The best way to learn programming is by solving real-world problems. That's why this course is designed around a common and practical scientific task: ***data analysis***. \n",
    "\n",
    "Throughout this part of the workshop, we will work with a dataset that contains valuable information about the physical oceanography at Potter Cove, located on King George Island in Antarctica. \n",
    "\n",
    "This dataset includes measurements collected using a device known as a CTD, which stands for Conductivity, Temperature, and Depth. The data was gathered between January 4 and February 3, 1994, and includes important details such as: \n",
    "\n",
    "- ***water depth [meters]***\n",
    "- ***temperature [Celsius]***\n",
    "- ***salinity levels***\n",
    "- ***water density [kg/m**3]***\n",
    "\n",
    "In total, we have 774 individual measurements from this study, which will help us understand the ocean conditions in this unique area."
   ]
  },
  {
   "cell_type": "markdown",
   "id": "cf7c6951-29b9-4e90-8992-ebbb88fe691e",
   "metadata": {},
   "source": [
    "## Load Pandas"
   ]
  },
  {
   "cell_type": "markdown",
   "id": "411c71e5-1884-4f94-a64a-cb80ba6ef433",
   "metadata": {},
   "source": [
    "**Python** doesn’t load all of the libraries available to it by default. We have to add an import statement to our code in order to use library functions.\n"
   ]
  },
  {
   "cell_type": "code",
   "execution_count": 38,
   "id": "6dd779c3-114e-4c86-9cb0-22bc4bdc8f50",
   "metadata": {
    "tags": []
   },
   "outputs": [],
   "source": [
    "#Your code goes here"
   ]
  },
  {
   "cell_type": "markdown",
   "id": "4bb42157-91d2-4a2d-9a71-62924f3c17dc",
   "metadata": {},
   "source": [
    "When we invoke a function from a library we use the following syntax: **LibraryName.FunctionName**, in this case we can call it **pandas.FunctionName**\n",
    "\n",
    "By giving *pandas* a *nickname* such as **pd**, it makes our lives easier now that we can call the function **pd.FunctionName** instead.\n",
    "This smart trick allows us to avoid typing out the full “pandas” keyword every time we use a function from the Pandas library.\n"
   ]
  },
  {
   "cell_type": "markdown",
   "id": "3b68aca4-f5a3-48e9-a843-6a089e4fe576",
   "metadata": {},
   "source": [
    "## Read CSV file using Pandas"
   ]
  },
  {
   "cell_type": "markdown",
   "id": "cf563898-7741-41f9-8f5f-a21fbf1a0f04",
   "metadata": {},
   "source": [
    "Pandas  can be used to import data stored in a Comma-Separated Values (CSV) file format. CSV is a common and simple way of structuring tabular data, where each line corresponds to a row and the values within a line are separated by commas.\n"
   ]
  },
  {
   "cell_type": "code",
   "execution_count": 39,
   "id": "e0079476-e72d-46b4-b553-ec5c1cdf2c66",
   "metadata": {
    "tags": []
   },
   "outputs": [],
   "source": [
    "#Your code goes here"
   ]
  },
  {
   "cell_type": "markdown",
   "id": "1a203ba8-1014-4ef7-9e07-adc6a5968cb8",
   "metadata": {},
   "source": [
    "This code returns an overview of how the dataset looks like, returning the first and last five rows. "
   ]
  },
  {
   "cell_type": "markdown",
   "id": "26513d17-a3f5-4c68-a938-f46228496552",
   "metadata": {},
   "source": [
    "The **read_csv** function has successfully processed our file but has not yet stored it into memory for further processing and analysis, so to do this we will add a new variable called “df”, short for dataframe:"
   ]
  },
  {
   "cell_type": "code",
   "execution_count": 40,
   "id": "8cb25262-4708-48ee-a0c2-28f1d4232f88",
   "metadata": {
    "tags": []
   },
   "outputs": [],
   "source": [
    "#Your code goes here"
   ]
  },
  {
   "cell_type": "markdown",
   "id": "c320940e-c5f2-4dba-806b-54b58d0c98c3",
   "metadata": {},
   "source": [
    "If the dataset contains many samples then it is a good idea to use the **head()** function of Pandas to see the first few samples of the dataset. The function head() by itself returns the first 5 rows, but we can also specify how many rows we want to display by adding a number as a parameter in the function: **head(*10*)**"
   ]
  },
  {
   "cell_type": "code",
   "execution_count": 41,
   "id": "028b9c35-dfd0-4145-a787-783d9b8eb528",
   "metadata": {
    "tags": []
   },
   "outputs": [],
   "source": [
    "#Your code goes here"
   ]
  },
  {
   "cell_type": "markdown",
   "id": "96bc9491-99c6-4ad2-b85e-9f281743f972",
   "metadata": {},
   "source": [
    "We can also check what kind of things **df** contains using **dtypes**. What kind of data types our dataframe contains:"
   ]
  },
  {
   "cell_type": "code",
   "execution_count": 42,
   "id": "8c7ace01-0b44-4b34-a99f-a0a1071e4e50",
   "metadata": {
    "tags": []
   },
   "outputs": [],
   "source": [
    "#Your code goes here"
   ]
  },
  {
   "cell_type": "markdown",
   "id": "f45602d2-730e-4533-8735-5f118826e1ca",
   "metadata": {},
   "source": [
    "## Explore the DataFrame Object"
   ]
  },
  {
   "cell_type": "markdown",
   "id": "6fc44e37-7fb3-46d1-8609-71b9f1453121",
   "metadata": {},
   "source": [
    "Let’s explore the DataFrame Object further. We will be using both methods and attributes.\n",
    "\n",
    "**Methods** are functions that we can apply to the DataFrame to perform specific operations. They usually require parentheses. If we wish to see the information of a dataframe, we can use the **info()** function:"
   ]
  },
  {
   "cell_type": "code",
   "execution_count": 43,
   "id": "f6df9e95-60e1-4aa8-95e0-890ec065670a",
   "metadata": {
    "tags": []
   },
   "outputs": [],
   "source": [
    "#Your code goes here"
   ]
  },
  {
   "cell_type": "markdown",
   "id": "dbab06a0-f7c8-4025-94a8-fde14c58c269",
   "metadata": {},
   "source": [
    "This summary provides valuable information about the DataFrame’s structure, data types, and the presence of missing values. It’s a quick overview that helps you understand the content and characteristics of the DataFrame."
   ]
  },
  {
   "cell_type": "markdown",
   "id": "d7d1ce36-3bc1-4712-a7c7-859359434e8e",
   "metadata": {},
   "source": [
    "We can use the **unique()** function to identify the distinct values within a column or an array."
   ]
  },
  {
   "cell_type": "code",
   "execution_count": 44,
   "id": "f520b365-2c7d-48b3-ace7-07edc890967d",
   "metadata": {
    "tags": []
   },
   "outputs": [],
   "source": [
    "#Your code goes here"
   ]
  },
  {
   "cell_type": "markdown",
   "id": "411a4e17-7772-49cc-bc65-7b6243760111",
   "metadata": {},
   "source": [
    "It returns the unique values in the **Date/Time** column."
   ]
  },
  {
   "cell_type": "markdown",
   "id": "6808fbf6-b1cd-450c-ab12-3e5333b43853",
   "metadata": {},
   "source": [
    "**Attributes** are properties of the DataFrame that provide information about its characteristics. They don’t require parentheses. If we wish to see the shape, number of rows and columns, of the dataframe we can use the **shape** attribute:"
   ]
  },
  {
   "cell_type": "code",
   "execution_count": 45,
   "id": "32001e10-bacb-40a6-a002-cfcf49956864",
   "metadata": {
    "tags": []
   },
   "outputs": [],
   "source": [
    "#Your code goes here"
   ]
  },
  {
   "cell_type": "markdown",
   "id": "9f03b857-bfdd-42c2-bfaa-63c8c5f8c5b4",
   "metadata": {},
   "source": [
    "### Exercise 1\n",
    "What would be the output of the following commands?\n",
    "-  df.tail()\n",
    "-  df.columns\n"
   ]
  },
  {
   "cell_type": "code",
   "execution_count": 9,
   "id": "ab82cadd-8913-4303-b802-ae54d9f7f242",
   "metadata": {},
   "outputs": [],
   "source": [
    "#Your exercise code goes here"
   ]
  },
  {
   "cell_type": "markdown",
   "id": "ade12d15-70f5-44a0-a512-62e50cc6e2cf",
   "metadata": {},
   "source": [
    "## Selecting Data Using Labels"
   ]
  },
  {
   "cell_type": "markdown",
   "id": "7e72d1d0-0779-4573-b1d2-24be61581828",
   "metadata": {},
   "source": [
    "To select a single column, use the DataFrame’s name followed by the column label in square brackets **['ColumnLabel']**."
   ]
  },
  {
   "cell_type": "code",
   "execution_count": 46,
   "id": "e4951945-e431-49b3-a928-a0cda4886f94",
   "metadata": {
    "tags": []
   },
   "outputs": [],
   "source": [
    "#Your code goes here"
   ]
  },
  {
   "cell_type": "markdown",
   "id": "cb78515b-fcd0-41a3-9a9e-636f4c25478b",
   "metadata": {},
   "source": [
    "We can also use the column name as an *attribute* to access data from that column using **df.Temperature**\n"
   ]
  },
  {
   "cell_type": "code",
   "execution_count": 47,
   "id": "d4be5570-524d-4caf-abdd-69acdd9a9c04",
   "metadata": {
    "tags": []
   },
   "outputs": [],
   "source": [
    "#Your code goes here"
   ]
  },
  {
   "cell_type": "markdown",
   "id": "6d646e34-3719-4ab3-8627-8075abb5e7c1",
   "metadata": {},
   "source": [
    "To select multiple columns, enclose the column labels in double square brackets **[['Column1', 'Column2']]**."
   ]
  },
  {
   "cell_type": "code",
   "execution_count": 48,
   "id": "af710cee-6161-402e-8f6d-91254e446667",
   "metadata": {
    "tags": []
   },
   "outputs": [],
   "source": [
    "#Your code goes here"
   ]
  },
  {
   "cell_type": "markdown",
   "id": "79461f86-7316-40b7-8930-e3ca5564ea67",
   "metadata": {},
   "source": [
    "We can also create a new object and store the result, and later we can access the result from the object."
   ]
  },
  {
   "cell_type": "code",
   "execution_count": 49,
   "id": "df36981a-a58e-44d1-a872-e8def471f376",
   "metadata": {
    "tags": []
   },
   "outputs": [],
   "source": [
    "#Your code goes here"
   ]
  },
  {
   "cell_type": "markdown",
   "id": "60a22966-80ab-439d-b07f-6d188a7626c2",
   "metadata": {},
   "source": [
    "### Exercise 2\n",
    "What happens if you ask for a column that doesn’t exist?\n",
    "-  df['Time']\n"
   ]
  },
  {
   "cell_type": "code",
   "execution_count": 14,
   "id": "36f39734-b6d2-4a37-9b48-a4d7f36c4e9a",
   "metadata": {
    "tags": []
   },
   "outputs": [],
   "source": [
    "#Your exercise code goes here"
   ]
  },
  {
   "cell_type": "markdown",
   "id": "f502045f-fafa-4731-8db9-c5b1c43f156d",
   "metadata": {},
   "source": [
    "## Extracting Range-based Subsets (Slicing)\n",
    "Slicing is a technique used to extract a portion or subset of elements from a sequence, such as a list or string. It allows us to specify a range of indices to retrieve a subset of the data.\n",
    "\n",
    "-  Getting Specific Elements\n",
    "-  Getting a Set of Elements\n",
    "-  Getting First Few Elements\n",
    "-  Getting Last Few Elements\n",
    "\n",
    "Let's go through a simple example of a list before moving back to dataframes:\n"
   ]
  },
  {
   "cell_type": "code",
   "execution_count": 50,
   "id": "3356af58-f27c-4eb5-b5ad-a2df5c1af546",
   "metadata": {
    "tags": []
   },
   "outputs": [],
   "source": [
    "#Your code goes here"
   ]
  },
  {
   "cell_type": "markdown",
   "id": "4f23dce8-708f-4b3b-be0d-e8275d0e07ec",
   "metadata": {
    "tags": []
   },
   "source": [
    "### Exercise 3\n",
    "What would be the output of the following command\n",
    "-  my_list[len(my_list)]\n"
   ]
  },
  {
   "cell_type": "code",
   "execution_count": 16,
   "id": "619eaae9-7062-4739-9f1c-d1e5581723ef",
   "metadata": {
    "tags": []
   },
   "outputs": [],
   "source": [
    "# Your exercise code goes here"
   ]
  },
  {
   "cell_type": "markdown",
   "id": "58b4b28e-fea0-4ebb-8aa0-0cb3bfff14c9",
   "metadata": {},
   "source": [
    "## Slicing Rows and Columns\n",
    "Slicing rows and columns simultaneously involves using **.loc** or **.iloc** and specifying the row indices and column labels or indices we want to include.\n",
    "\n",
    "-  **.loc** is label-based indexing, meaning we specify the row and column labels.\n",
    "-  **.iloc** is integer-based indexing, meaning we use integer indices for rows and columns."
   ]
  },
  {
   "cell_type": "markdown",
   "id": "96cc6850-b3b2-4d30-91aa-b712ec4aeec5",
   "metadata": {},
   "source": [
    "#### Using .loc "
   ]
  },
  {
   "cell_type": "code",
   "execution_count": 51,
   "id": "d9fd77d6-0c8d-4ece-8601-4f71c66a9246",
   "metadata": {
    "tags": []
   },
   "outputs": [],
   "source": [
    "#Your code goes here"
   ]
  },
  {
   "cell_type": "markdown",
   "id": "975977fe-a296-4b6a-9205-f1a78b5f2547",
   "metadata": {},
   "source": [
    "Now, if we want to select **‘Date’, ’Water_Depth’, and ‘Salinity_Level’** columns with row labels **“1, 3, 4”**, we can also do this using the below code:"
   ]
  },
  {
   "cell_type": "code",
   "execution_count": 52,
   "id": "c01bc34d-2c1e-42b0-994f-b55523e555b0",
   "metadata": {
    "tags": []
   },
   "outputs": [],
   "source": [
    "#Your code goes here"
   ]
  },
  {
   "cell_type": "markdown",
   "id": "31f06688-f84d-444c-82ec-b964681aeb12",
   "metadata": {},
   "source": [
    "### Using .iloc: "
   ]
  },
  {
   "cell_type": "code",
   "execution_count": 53,
   "id": "ba99110c-5f35-45b8-9c1a-d4065b57a616",
   "metadata": {
    "tags": []
   },
   "outputs": [],
   "source": [
    "#Your code goes here"
   ]
  },
  {
   "cell_type": "markdown",
   "id": "4e0cee50-147c-44d1-ae0e-f7d5e2196b61",
   "metadata": {},
   "source": [
    "In both cases, using *.loc* or *.iloc*, the first argument specifies the rows to include, and the second argument specifies the columns to include. "
   ]
  },
  {
   "cell_type": "markdown",
   "id": "6a357a52-e224-4901-bf6b-9385ec3f7744",
   "metadata": {},
   "source": [
    "## Subsetting Data using Criteria\n",
    "Subsetting data using criteria involves selecting a subset of rows from a DataFrame based on specific conditions. This is often done to filter out rows that meet certain criteria or to focus on specific data points that are relevant to our analysis. \n",
    "\n",
    "We can use conditional statements to filter rows based on specific criteria. The condition is typically applied to a column, and rows meeting the condition are retained.\n",
    "\n",
    "For example, let’s say we want to subset the DataFrame to only include samples with water depth greater than 25 meters:\n"
   ]
  },
  {
   "cell_type": "code",
   "execution_count": 54,
   "id": "0dcfed9b-26ca-405f-9848-a853c32d280d",
   "metadata": {
    "tags": []
   },
   "outputs": [],
   "source": [
    "#Your code goes here"
   ]
  },
  {
   "cell_type": "markdown",
   "id": "1b8485ec-d0b2-47f8-96be-e04a0eeaff9c",
   "metadata": {},
   "source": [
    "Also, we can combine multiple criteria using logical operators such as **&** *(AND)* and **|** *(OR)* to create more complex conditions.\n",
    "\n",
    "For instance, to subset the DataFrame for samples with water depth greater than 25 meters and salinity levels greater than 33."
   ]
  },
  {
   "cell_type": "code",
   "execution_count": 55,
   "id": "cefd3afa-0c27-435b-a8d0-47bf4f3cd5f7",
   "metadata": {
    "tags": []
   },
   "outputs": [],
   "source": [
    "#Your code goes here"
   ]
  },
  {
   "cell_type": "markdown",
   "id": "8d023dab-c6cb-42fd-9d38-91d1209681fa",
   "metadata": {},
   "source": [
    "We can also use the **~** symbol to negate a condition. For example, to subset the DataFrame for samples with a water depth less than or equal to 25 meters:"
   ]
  },
  {
   "cell_type": "code",
   "execution_count": 56,
   "id": "040e282b-bad2-4b41-ae97-725c41ffbb89",
   "metadata": {
    "tags": []
   },
   "outputs": [],
   "source": [
    "#Your code goes here"
   ]
  },
  {
   "cell_type": "markdown",
   "id": "089fafe9-6784-4bfe-ad0e-0caab79d0b55",
   "metadata": {},
   "source": [
    "The **isin()** function is used to filter data based on whether values are present in a specified list or iterable. It’s a convenient way to subset data when we want to select rows that match specific values for a particular column.\n",
    "\n",
    "Let’s say we want to select rows where the **‘Date’** column has values **‘1994-01-04’** or **‘1994-01-11’**:\n"
   ]
  },
  {
   "cell_type": "code",
   "execution_count": 57,
   "id": "9ebdcdf3-1b78-4a26-9c51-660e7a96ab64",
   "metadata": {
    "tags": []
   },
   "outputs": [],
   "source": [
    "#Your code goes here"
   ]
  },
  {
   "cell_type": "markdown",
   "id": "8c2311be-bd3a-40b0-85f2-d3360fc6c5a4",
   "metadata": {},
   "source": [
    "**isnull()** and **notnull()** functions are used to detect missing (NaN) values in a DataFrame. **isnull()** returns a DataFrame of the same shape as the input, with True values indicating missing values. **notnull()** returns the opposite.\n",
    "\n",
    "Let’s say we want to select rows where the ‘Water_Depth’ column *has missing values*:\n"
   ]
  },
  {
   "cell_type": "code",
   "execution_count": 58,
   "id": "565c3edb-54f4-4936-a530-29601d002b63",
   "metadata": {
    "tags": []
   },
   "outputs": [],
   "source": [
    "#Your code goes here"
   ]
  },
  {
   "cell_type": "markdown",
   "id": "95b07454-01b6-429a-bc82-99d4c665b80d",
   "metadata": {},
   "source": [
    "Let’s say we want to select rows where the ‘Water_Depth’ column *does not have missing values*:"
   ]
  },
  {
   "cell_type": "code",
   "execution_count": 59,
   "id": "1fb57c4e-b628-4aed-80a3-9f6448b67b15",
   "metadata": {
    "tags": []
   },
   "outputs": [],
   "source": [
    "#Your code goes here"
   ]
  },
  {
   "cell_type": "markdown",
   "id": "420f77d1-04d0-47d6-97ae-e3110c0e0233",
   "metadata": {},
   "source": [
    "## Calculating Statistics from Pandas DataFrame\n",
    "We can use Pandas DataFrame’s built-in methods to quickly generate summary statistics for our data. Such as, we can use the **describe()** function to get summary statistics for numerical columns like count, mean, standard deviation, minimum, and maximum."
   ]
  },
  {
   "cell_type": "code",
   "execution_count": 60,
   "id": "c974624d-6316-4949-b16c-a89273f71328",
   "metadata": {
    "tags": []
   },
   "outputs": [],
   "source": [
    "#Your code goes here"
   ]
  },
  {
   "cell_type": "markdown",
   "id": "553efc3d-7b8e-45b2-ba5a-bcd7be923aa4",
   "metadata": {},
   "source": [
    "If we want to calculate the standard deviation of a numerical column we can use **std()** function."
   ]
  },
  {
   "cell_type": "code",
   "execution_count": 61,
   "id": "ef6c4828-da7e-4a8a-9d2d-c7a35985a1b6",
   "metadata": {
    "tags": []
   },
   "outputs": [],
   "source": [
    "#Your code goes here"
   ]
  },
  {
   "cell_type": "markdown",
   "id": "7d012e4d-f0ad-4f25-a34c-e5ba20dfe965",
   "metadata": {},
   "source": [
    "There are many more statistics formulas that you can use, I encourage you to check out the following resources:\n",
    "-  https://www.tutorialspoint.com/python_pandas/python_pandas_descriptive_statistics.htm\n",
    "-  https://www.scaler.com/topics/pandas/statistical-functions-in-pandas/\n",
    "\n",
    "I promise you will have fun!"
   ]
  },
  {
   "cell_type": "markdown",
   "id": "d27e4ac5-4779-4318-90b5-2581ecfb33b8",
   "metadata": {},
   "source": [
    "## Groups in Pandas\n",
    "\n",
    "Frequently, there’s a need to compute summary statistics based on subsets or specific attributes within our dataset. For instance, we might wish to find the summary statistics of the water density of all the samples, we can do it using the following code:"
   ]
  },
  {
   "cell_type": "code",
   "execution_count": 62,
   "id": "1efdaa32-a516-4c2d-b646-0e5c8ca3d159",
   "metadata": {
    "tags": []
   },
   "outputs": [],
   "source": [
    "#Your code goes here"
   ]
  },
  {
   "cell_type": "markdown",
   "id": "57e476b9-5dab-441d-ad9a-95c7fbf3070b",
   "metadata": {},
   "source": [
    "Again, we might also want to get only specific information, like the maximum:"
   ]
  },
  {
   "cell_type": "code",
   "execution_count": 63,
   "id": "1bf2b9ba-7959-4e7f-8e61-02e33999d5ed",
   "metadata": {
    "tags": []
   },
   "outputs": [],
   "source": [
    "#Your code goes here"
   ]
  },
  {
   "cell_type": "markdown",
   "id": "59eaced5-3a32-4d5f-b81b-e080bcf9be31",
   "metadata": {},
   "source": [
    "or we can get the average income of all individuals:"
   ]
  },
  {
   "cell_type": "code",
   "execution_count": 64,
   "id": "fae2e9a9-c9c5-40fd-ad86-da0a61f617a2",
   "metadata": {
    "tags": []
   },
   "outputs": [],
   "source": [
    "#Your code goes here"
   ]
  },
  {
   "cell_type": "markdown",
   "id": "100053e0-7fb6-431e-937c-40bb980b75f3",
   "metadata": {},
   "source": [
    "However, when the intention is to summarize data based on one or more variables, such as Date, the Pandas library offers the **.groupby** method. Once a DataFrame is grouped using this approach, we have the ability to compute summary statistics of the selected grouping."
   ]
  },
  {
   "cell_type": "code",
   "execution_count": 65,
   "id": "91f48b7e-6f14-4013-a5b9-bea49bd7dc7c",
   "metadata": {
    "tags": []
   },
   "outputs": [],
   "source": [
    "#Your code goes here"
   ]
  },
  {
   "cell_type": "markdown",
   "id": "b0490f0a-1f8d-4f08-9426-45301160cc5a",
   "metadata": {},
   "source": [
    "## Basic Math with Pandas\n",
    "If desired, it’s entirely possible to perform mathematical operations, such as addition or division, on an entire column of our dataframe. \n",
    "\n",
    " \n",
    "Let's multiply the Temperature column by 2:"
   ]
  },
  {
   "cell_type": "code",
   "execution_count": 66,
   "id": "daa4f272-27a0-4b1d-ae78-d9340e32fa90",
   "metadata": {
    "tags": []
   },
   "outputs": [],
   "source": [
    "#Your code goes here"
   ]
  },
  {
   "cell_type": "markdown",
   "id": "26008a86-bb53-4112-8e8e-cef3eab52680",
   "metadata": {},
   "source": [
    "## Concatenating DataFrames\n",
    "Concatenating DataFrames refers to combining two or more DataFrames along a particular axis (either rows or columns) to create a single larger DataFrame. This is useful when we have data split across multiple DataFrames and we want to consolidate them into one for analysis or processing.\n",
    "\n",
    "In Pandas, we can use the **concat()** function to concatenate DataFrames. This function provides various options to control how the concatenation should be performed. \n",
    "\n",
    "Let’s say we have two DataFrames, **df1** and **df2**, and we want to concatenate them vertically (along rows):"
   ]
  },
  {
   "cell_type": "code",
   "execution_count": 67,
   "id": "966922e9-209d-4ada-bc61-33f60036e23c",
   "metadata": {
    "tags": []
   },
   "outputs": [],
   "source": [
    "#Your code goes here"
   ]
  },
  {
   "cell_type": "markdown",
   "id": "f2785eb3-9dcf-475d-997b-79972086b14d",
   "metadata": {},
   "source": [
    "In this example, **pd.concat()** is used to concatenate df1 and df2 vertically into concatenated_df. The **ignore_index=True** argument ensures that the index is reset after concatenation."
   ]
  },
  {
   "cell_type": "markdown",
   "id": "a01418ae-359c-4d4b-b907-8d8ce84e5c64",
   "metadata": {},
   "source": [
    "We can also concatenate DataFrames **horizontally** by specifying **axis=1** as an argument to **pd.concat()**. This will merge the DataFrames along columns."
   ]
  },
  {
   "cell_type": "code",
   "execution_count": 68,
   "id": "49946199-7337-45cd-823e-c35d23e4551d",
   "metadata": {
    "tags": []
   },
   "outputs": [],
   "source": [
    "#Your code goes here"
   ]
  },
  {
   "cell_type": "markdown",
   "id": "d8bc8873-f133-4cff-9795-36175e06d776",
   "metadata": {},
   "source": [
    "### Exercise 4\n",
    "Consider two DataFrames, df1 and df2, with the following data\n",
    "\n",
    "**import pandas as pd**\n",
    "\n",
    "**data1 = {'A': [1, 2, 3], 'B': [4, 5, 6]}**\n",
    "\n",
    "**data2 = {'A': [7, 8, 9], 'B': [10, 11, 12]}**\n",
    "\n",
    "**df1 = pd.DataFrame(data1)**\n",
    "\n",
    "**df2 = pd.DataFrame(data2)**\n",
    "\n",
    "What will be the output of the following code:\n",
    "\n",
    "**result = pd.concat([df1, df2], axis=1)**\n",
    "\n",
    "**print(result)**\n",
    "\n",
    "Select the correct answer ***(without running the code)***:\n",
    "\n",
    "a) The concatenated DataFrame with columns A, B, A, B\n",
    "\n",
    "b) An error will occur because columns A and B are duplicated\n",
    "\n",
    "c) The concatenated DataFrame with columns A, B, C, D\n",
    "\n"
   ]
  },
  {
   "cell_type": "code",
   "execution_count": 69,
   "id": "188032b4-4905-4408-944f-1bd5b70ea7f0",
   "metadata": {
    "tags": []
   },
   "outputs": [],
   "source": [
    "#Your code goes here"
   ]
  },
  {
   "cell_type": "markdown",
   "id": "e6e40368-8d8e-4e44-bffe-0ba71adacc43",
   "metadata": {},
   "source": [
    "## Saving Pandas DataFrame\n",
    "\n",
    "We can save a Pandas DataFrame to various file formats using different methods provided by Pandas. Before we move forward with saving  a pandas dataframe, let’s first create a new directory called “Results” within the directory that contains your code."
   ]
  },
  {
   "cell_type": "markdown",
   "id": "b940661f-504d-49de-a6ff-32b61e8089fd",
   "metadata": {},
   "source": [
    "Here are some commonly used methods to save a DataFrame:\n",
    "-  CSV Format: To save a DataFrame to a CSV file, we can use the to_csv() method:\n"
   ]
  },
  {
   "cell_type": "code",
   "execution_count": 70,
   "id": "77ef5e8c-d210-4f76-b164-08d5f11de9a3",
   "metadata": {
    "tags": []
   },
   "outputs": [],
   "source": [
    "#Your code goes here"
   ]
  },
  {
   "cell_type": "markdown",
   "id": "9cbba400-e842-4d16-83e7-faebc8f2e179",
   "metadata": {},
   "source": [
    "This will save the DataFrame to a CSV file named ‘output.csv’ inside a directory called “Results”, without including the index."
   ]
  },
  {
   "cell_type": "markdown",
   "id": "79e3a4ae-0954-4c0f-a98a-6bddfae5ecbb",
   "metadata": {},
   "source": [
    "-  Excel Format: To save a DataFrame to an Excel file, we can use the to_excel() method:"
   ]
  },
  {
   "cell_type": "code",
   "execution_count": 71,
   "id": "6626932c-e412-449d-8aac-5438bb28a825",
   "metadata": {
    "tags": []
   },
   "outputs": [],
   "source": [
    "#Your code goes here"
   ]
  },
  {
   "cell_type": "markdown",
   "id": "d8f7dede-b50c-4ea1-a5b0-d5cc7eb8302c",
   "metadata": {},
   "source": [
    "This will save the DataFrame to an Excel file named ‘output.xlsx’  inside a directory called “Results”, without including the index.\n"
   ]
  },
  {
   "cell_type": "markdown",
   "id": "925caa47-d869-4763-83e8-63ff962c0918",
   "metadata": {},
   "source": [
    "-  Other Formats: Pandas supports various other formats, including JSON, Parquet, HDF5, and more. We can use the appropriate method based on the desired format:\n",
    "\n",
    "    -   JSON: df.to_json(\"output.json\", orient=\"records\")\n",
    "    -   Parquet: df.to_parquet(\"output.parquet\")\n",
    "    -   HDF5: df.to_hdf(\"output.h5\", key=\"data\")\n",
    "\n",
    "Make sure to replace ‘output’ with your desired file name and extension.\n"
   ]
  }
 ],
 "metadata": {
  "kernelspec": {
   "display_name": "Python 3 (ipykernel)",
   "language": "python",
   "name": "python3"
  },
  "language_info": {
   "codemirror_mode": {
    "name": "ipython",
    "version": 3
   },
   "file_extension": ".py",
   "mimetype": "text/x-python",
   "name": "python",
   "nbconvert_exporter": "python",
   "pygments_lexer": "ipython3",
   "version": "3.12.7"
  }
 },
 "nbformat": 4,
 "nbformat_minor": 5
}
