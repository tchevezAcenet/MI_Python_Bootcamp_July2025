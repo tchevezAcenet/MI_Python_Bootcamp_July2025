{
 "cells": [
  {
   "cell_type": "markdown",
   "id": "54e3455a-2d45-4a7e-9eda-0d017566905d",
   "metadata": {
    "tags": []
   },
   "source": [
    "# Data Analytics and Visualization (part 1)"
   ]
  },
  {
   "cell_type": "markdown",
   "id": "c24ae556-7453-4437-997c-f5ee4febecf9",
   "metadata": {},
   "source": [
    "The best way to learn programming is by solving real-world problems. That's why this course is designed around a common and practical scientific task: ***data analysis***. \n",
    "\n",
    "Throughout this part of the workshop, we will work with a dataset that contains valuable information about the physical oceanography at Potter Cove, located on King George Island in Antarctica. \n",
    "\n",
    "This dataset includes measurements collected using a device known as a CTD, which stands for Conductivity, Temperature, and Depth. The data was gathered between January 4 and February 3, 1994, and includes important details such as: \n",
    "\n",
    "- ***water depth [meters]***\n",
    "- ***temperature [Celsius]***\n",
    "- ***salinity levels***\n",
    "- ***water density [kg/m**3]***\n",
    "\n",
    "In total, we have 774 individual measurements from this study, which will help us understand the ocean conditions in this unique area."
   ]
  },
  {
   "cell_type": "markdown",
   "id": "cf7c6951-29b9-4e90-8992-ebbb88fe691e",
   "metadata": {},
   "source": [
    "## Load Pandas"
   ]
  },
  {
   "cell_type": "markdown",
   "id": "411c71e5-1884-4f94-a64a-cb80ba6ef433",
   "metadata": {},
   "source": [
    "**Python** doesn’t load all of the libraries available to it by default. We have to add an import statement to our code in order to use library functions.\n"
   ]
  },
  {
   "cell_type": "code",
   "execution_count": 1,
   "id": "6dd779c3-114e-4c86-9cb0-22bc4bdc8f50",
   "metadata": {
    "tags": []
   },
   "outputs": [],
   "source": [
    "import pandas as pd"
   ]
  },
  {
   "cell_type": "markdown",
   "id": "4bb42157-91d2-4a2d-9a71-62924f3c17dc",
   "metadata": {},
   "source": [
    "When we invoke a function from a library we use the following syntax: **LibraryName.FunctionName**, in this case we can call it **pandas.FunctionName**\n",
    "\n",
    "By giving *pandas* a *nickname* such as **pd**, it makes our lives easier now that we can call the function **pd.FunctionName** instead.\n",
    "This smart trick allows us to avoid typing out the full “pandas” keyword every time we use a function from the Pandas library.\n"
   ]
  },
  {
   "cell_type": "markdown",
   "id": "3b68aca4-f5a3-48e9-a843-6a089e4fe576",
   "metadata": {},
   "source": [
    "## Read CSV file using Pandas"
   ]
  },
  {
   "cell_type": "markdown",
   "id": "cf563898-7741-41f9-8f5f-a21fbf1a0f04",
   "metadata": {},
   "source": [
    "Pandas  can be used to import data stored in a Comma-Separated Values (CSV) file format. CSV is a common and simple way of structuring tabular data, where each line corresponds to a row and the values within a line are separated by commas.\n"
   ]
  },
  {
   "cell_type": "code",
   "execution_count": 2,
   "id": "e0079476-e72d-46b4-b553-ec5c1cdf2c66",
   "metadata": {
    "tags": []
   },
   "outputs": [
    {
     "data": {
      "text/html": [
       "<div>\n",
       "<style scoped>\n",
       "    .dataframe tbody tr th:only-of-type {\n",
       "        vertical-align: middle;\n",
       "    }\n",
       "\n",
       "    .dataframe tbody tr th {\n",
       "        vertical-align: top;\n",
       "    }\n",
       "\n",
       "    .dataframe thead th {\n",
       "        text-align: right;\n",
       "    }\n",
       "</style>\n",
       "<table border=\"1\" class=\"dataframe\">\n",
       "  <thead>\n",
       "    <tr style=\"text-align: right;\">\n",
       "      <th></th>\n",
       "      <th>Date</th>\n",
       "      <th>Water_Depth</th>\n",
       "      <th>Temperature</th>\n",
       "      <th>Salinity_Level</th>\n",
       "      <th>Water_Density</th>\n",
       "    </tr>\n",
       "  </thead>\n",
       "  <tbody>\n",
       "    <tr>\n",
       "      <th>0</th>\n",
       "      <td>1994-01-04</td>\n",
       "      <td>0.1</td>\n",
       "      <td>1.10</td>\n",
       "      <td>32.88</td>\n",
       "      <td>26.81</td>\n",
       "    </tr>\n",
       "    <tr>\n",
       "      <th>1</th>\n",
       "      <td>1994-01-04</td>\n",
       "      <td>0.2</td>\n",
       "      <td>1.02</td>\n",
       "      <td>32.90</td>\n",
       "      <td>26.82</td>\n",
       "    </tr>\n",
       "    <tr>\n",
       "      <th>2</th>\n",
       "      <td>1994-01-04</td>\n",
       "      <td>0.4</td>\n",
       "      <td>0.92</td>\n",
       "      <td>33.00</td>\n",
       "      <td>26.92</td>\n",
       "    </tr>\n",
       "    <tr>\n",
       "      <th>3</th>\n",
       "      <td>1994-01-04</td>\n",
       "      <td>0.6</td>\n",
       "      <td>0.91</td>\n",
       "      <td>33.08</td>\n",
       "      <td>26.98</td>\n",
       "    </tr>\n",
       "    <tr>\n",
       "      <th>4</th>\n",
       "      <td>1994-01-04</td>\n",
       "      <td>0.8</td>\n",
       "      <td>0.87</td>\n",
       "      <td>33.06</td>\n",
       "      <td>26.96</td>\n",
       "    </tr>\n",
       "    <tr>\n",
       "      <th>...</th>\n",
       "      <td>...</td>\n",
       "      <td>...</td>\n",
       "      <td>...</td>\n",
       "      <td>...</td>\n",
       "      <td>...</td>\n",
       "    </tr>\n",
       "    <tr>\n",
       "      <th>769</th>\n",
       "      <td>1994-02-03</td>\n",
       "      <td>38.3</td>\n",
       "      <td>0.84</td>\n",
       "      <td>34.19</td>\n",
       "      <td>27.88</td>\n",
       "    </tr>\n",
       "    <tr>\n",
       "      <th>770</th>\n",
       "      <td>1994-02-03</td>\n",
       "      <td>38.6</td>\n",
       "      <td>0.83</td>\n",
       "      <td>34.19</td>\n",
       "      <td>27.88</td>\n",
       "    </tr>\n",
       "    <tr>\n",
       "      <th>771</th>\n",
       "      <td>1994-02-03</td>\n",
       "      <td>38.7</td>\n",
       "      <td>0.83</td>\n",
       "      <td>34.19</td>\n",
       "      <td>27.88</td>\n",
       "    </tr>\n",
       "    <tr>\n",
       "      <th>772</th>\n",
       "      <td>1994-02-03</td>\n",
       "      <td>39.0</td>\n",
       "      <td>0.83</td>\n",
       "      <td>34.19</td>\n",
       "      <td>NaN</td>\n",
       "    </tr>\n",
       "    <tr>\n",
       "      <th>773</th>\n",
       "      <td>1994-02-03</td>\n",
       "      <td>39.1</td>\n",
       "      <td>0.83</td>\n",
       "      <td>34.19</td>\n",
       "      <td>27.88</td>\n",
       "    </tr>\n",
       "  </tbody>\n",
       "</table>\n",
       "<p>774 rows × 5 columns</p>\n",
       "</div>"
      ],
      "text/plain": [
       "           Date  Water_Depth  Temperature  Salinity_Level  Water_Density\n",
       "0    1994-01-04          0.1         1.10           32.88          26.81\n",
       "1    1994-01-04          0.2         1.02           32.90          26.82\n",
       "2    1994-01-04          0.4         0.92           33.00          26.92\n",
       "3    1994-01-04          0.6         0.91           33.08          26.98\n",
       "4    1994-01-04          0.8         0.87           33.06          26.96\n",
       "..          ...          ...          ...             ...            ...\n",
       "769  1994-02-03         38.3         0.84           34.19          27.88\n",
       "770  1994-02-03         38.6         0.83           34.19          27.88\n",
       "771  1994-02-03         38.7         0.83           34.19          27.88\n",
       "772  1994-02-03         39.0         0.83           34.19            NaN\n",
       "773  1994-02-03         39.1         0.83           34.19          27.88\n",
       "\n",
       "[774 rows x 5 columns]"
      ]
     },
     "execution_count": 2,
     "metadata": {},
     "output_type": "execute_result"
    }
   ],
   "source": [
    "file_path = \"ocean_data_potter_cove.csv\"\n",
    "\n",
    "pd.read_csv(file_path)"
   ]
  },
  {
   "cell_type": "markdown",
   "id": "1a203ba8-1014-4ef7-9e07-adc6a5968cb8",
   "metadata": {},
   "source": [
    "This code returns an overview of how the dataset looks like, returning the first and last five rows. "
   ]
  },
  {
   "cell_type": "markdown",
   "id": "26513d17-a3f5-4c68-a938-f46228496552",
   "metadata": {},
   "source": [
    "The **read_csv** function has successfully processed our file but has not yet stored it into memory for further processing and analysis, so to do this we will add a new variable called “df”, short for dataframe:"
   ]
  },
  {
   "cell_type": "code",
   "execution_count": 3,
   "id": "8cb25262-4708-48ee-a0c2-28f1d4232f88",
   "metadata": {
    "tags": []
   },
   "outputs": [
    {
     "data": {
      "text/html": [
       "<div>\n",
       "<style scoped>\n",
       "    .dataframe tbody tr th:only-of-type {\n",
       "        vertical-align: middle;\n",
       "    }\n",
       "\n",
       "    .dataframe tbody tr th {\n",
       "        vertical-align: top;\n",
       "    }\n",
       "\n",
       "    .dataframe thead th {\n",
       "        text-align: right;\n",
       "    }\n",
       "</style>\n",
       "<table border=\"1\" class=\"dataframe\">\n",
       "  <thead>\n",
       "    <tr style=\"text-align: right;\">\n",
       "      <th></th>\n",
       "      <th>Date</th>\n",
       "      <th>Water_Depth</th>\n",
       "      <th>Temperature</th>\n",
       "      <th>Salinity_Level</th>\n",
       "      <th>Water_Density</th>\n",
       "    </tr>\n",
       "  </thead>\n",
       "  <tbody>\n",
       "    <tr>\n",
       "      <th>0</th>\n",
       "      <td>1994-01-04</td>\n",
       "      <td>0.1</td>\n",
       "      <td>1.10</td>\n",
       "      <td>32.88</td>\n",
       "      <td>26.81</td>\n",
       "    </tr>\n",
       "    <tr>\n",
       "      <th>1</th>\n",
       "      <td>1994-01-04</td>\n",
       "      <td>0.2</td>\n",
       "      <td>1.02</td>\n",
       "      <td>32.90</td>\n",
       "      <td>26.82</td>\n",
       "    </tr>\n",
       "    <tr>\n",
       "      <th>2</th>\n",
       "      <td>1994-01-04</td>\n",
       "      <td>0.4</td>\n",
       "      <td>0.92</td>\n",
       "      <td>33.00</td>\n",
       "      <td>26.92</td>\n",
       "    </tr>\n",
       "    <tr>\n",
       "      <th>3</th>\n",
       "      <td>1994-01-04</td>\n",
       "      <td>0.6</td>\n",
       "      <td>0.91</td>\n",
       "      <td>33.08</td>\n",
       "      <td>26.98</td>\n",
       "    </tr>\n",
       "    <tr>\n",
       "      <th>4</th>\n",
       "      <td>1994-01-04</td>\n",
       "      <td>0.8</td>\n",
       "      <td>0.87</td>\n",
       "      <td>33.06</td>\n",
       "      <td>26.96</td>\n",
       "    </tr>\n",
       "    <tr>\n",
       "      <th>...</th>\n",
       "      <td>...</td>\n",
       "      <td>...</td>\n",
       "      <td>...</td>\n",
       "      <td>...</td>\n",
       "      <td>...</td>\n",
       "    </tr>\n",
       "    <tr>\n",
       "      <th>769</th>\n",
       "      <td>1994-02-03</td>\n",
       "      <td>38.3</td>\n",
       "      <td>0.84</td>\n",
       "      <td>34.19</td>\n",
       "      <td>27.88</td>\n",
       "    </tr>\n",
       "    <tr>\n",
       "      <th>770</th>\n",
       "      <td>1994-02-03</td>\n",
       "      <td>38.6</td>\n",
       "      <td>0.83</td>\n",
       "      <td>34.19</td>\n",
       "      <td>27.88</td>\n",
       "    </tr>\n",
       "    <tr>\n",
       "      <th>771</th>\n",
       "      <td>1994-02-03</td>\n",
       "      <td>38.7</td>\n",
       "      <td>0.83</td>\n",
       "      <td>34.19</td>\n",
       "      <td>27.88</td>\n",
       "    </tr>\n",
       "    <tr>\n",
       "      <th>772</th>\n",
       "      <td>1994-02-03</td>\n",
       "      <td>39.0</td>\n",
       "      <td>0.83</td>\n",
       "      <td>34.19</td>\n",
       "      <td>NaN</td>\n",
       "    </tr>\n",
       "    <tr>\n",
       "      <th>773</th>\n",
       "      <td>1994-02-03</td>\n",
       "      <td>39.1</td>\n",
       "      <td>0.83</td>\n",
       "      <td>34.19</td>\n",
       "      <td>27.88</td>\n",
       "    </tr>\n",
       "  </tbody>\n",
       "</table>\n",
       "<p>774 rows × 5 columns</p>\n",
       "</div>"
      ],
      "text/plain": [
       "           Date  Water_Depth  Temperature  Salinity_Level  Water_Density\n",
       "0    1994-01-04          0.1         1.10           32.88          26.81\n",
       "1    1994-01-04          0.2         1.02           32.90          26.82\n",
       "2    1994-01-04          0.4         0.92           33.00          26.92\n",
       "3    1994-01-04          0.6         0.91           33.08          26.98\n",
       "4    1994-01-04          0.8         0.87           33.06          26.96\n",
       "..          ...          ...          ...             ...            ...\n",
       "769  1994-02-03         38.3         0.84           34.19          27.88\n",
       "770  1994-02-03         38.6         0.83           34.19          27.88\n",
       "771  1994-02-03         38.7         0.83           34.19          27.88\n",
       "772  1994-02-03         39.0         0.83           34.19            NaN\n",
       "773  1994-02-03         39.1         0.83           34.19          27.88\n",
       "\n",
       "[774 rows x 5 columns]"
      ]
     },
     "execution_count": 3,
     "metadata": {},
     "output_type": "execute_result"
    }
   ],
   "source": [
    "df = pd.read_csv(file_path)\n",
    "df"
   ]
  },
  {
   "cell_type": "markdown",
   "id": "c320940e-c5f2-4dba-806b-54b58d0c98c3",
   "metadata": {},
   "source": [
    "If the dataset contains many samples then it is a good idea to use the **head()** function of Pandas to see the first few samples of the dataset. The function head() by itself returns the first 5 rows, but we can also specify how many rows we want to display by adding a number as a parameter in the function: **head(*10*)**"
   ]
  },
  {
   "cell_type": "code",
   "execution_count": 9,
   "id": "028b9c35-dfd0-4145-a787-783d9b8eb528",
   "metadata": {
    "tags": []
   },
   "outputs": [
    {
     "data": {
      "text/html": [
       "<div>\n",
       "<style scoped>\n",
       "    .dataframe tbody tr th:only-of-type {\n",
       "        vertical-align: middle;\n",
       "    }\n",
       "\n",
       "    .dataframe tbody tr th {\n",
       "        vertical-align: top;\n",
       "    }\n",
       "\n",
       "    .dataframe thead th {\n",
       "        text-align: right;\n",
       "    }\n",
       "</style>\n",
       "<table border=\"1\" class=\"dataframe\">\n",
       "  <thead>\n",
       "    <tr style=\"text-align: right;\">\n",
       "      <th></th>\n",
       "      <th>Date</th>\n",
       "      <th>Water_Depth</th>\n",
       "      <th>Temperature</th>\n",
       "      <th>Salinity_Level</th>\n",
       "      <th>Water_Density</th>\n",
       "    </tr>\n",
       "  </thead>\n",
       "  <tbody>\n",
       "    <tr>\n",
       "      <th>0</th>\n",
       "      <td>1994-01-04</td>\n",
       "      <td>0.1</td>\n",
       "      <td>1.10</td>\n",
       "      <td>32.88</td>\n",
       "      <td>26.81</td>\n",
       "    </tr>\n",
       "    <tr>\n",
       "      <th>1</th>\n",
       "      <td>1994-01-04</td>\n",
       "      <td>0.2</td>\n",
       "      <td>1.02</td>\n",
       "      <td>32.90</td>\n",
       "      <td>26.82</td>\n",
       "    </tr>\n",
       "    <tr>\n",
       "      <th>2</th>\n",
       "      <td>1994-01-04</td>\n",
       "      <td>0.4</td>\n",
       "      <td>0.92</td>\n",
       "      <td>33.00</td>\n",
       "      <td>26.92</td>\n",
       "    </tr>\n",
       "    <tr>\n",
       "      <th>3</th>\n",
       "      <td>1994-01-04</td>\n",
       "      <td>0.6</td>\n",
       "      <td>0.91</td>\n",
       "      <td>33.08</td>\n",
       "      <td>26.98</td>\n",
       "    </tr>\n",
       "    <tr>\n",
       "      <th>4</th>\n",
       "      <td>1994-01-04</td>\n",
       "      <td>0.8</td>\n",
       "      <td>0.87</td>\n",
       "      <td>33.06</td>\n",
       "      <td>26.96</td>\n",
       "    </tr>\n",
       "    <tr>\n",
       "      <th>5</th>\n",
       "      <td>1994-01-04</td>\n",
       "      <td>1.0</td>\n",
       "      <td>0.80</td>\n",
       "      <td>33.14</td>\n",
       "      <td>27.03</td>\n",
       "    </tr>\n",
       "    <tr>\n",
       "      <th>6</th>\n",
       "      <td>1994-01-04</td>\n",
       "      <td>1.2</td>\n",
       "      <td>0.76</td>\n",
       "      <td>33.27</td>\n",
       "      <td>27.14</td>\n",
       "    </tr>\n",
       "    <tr>\n",
       "      <th>7</th>\n",
       "      <td>1994-01-04</td>\n",
       "      <td>1.5</td>\n",
       "      <td>0.74</td>\n",
       "      <td>33.37</td>\n",
       "      <td>27.22</td>\n",
       "    </tr>\n",
       "    <tr>\n",
       "      <th>8</th>\n",
       "      <td>1994-01-04</td>\n",
       "      <td>1.7</td>\n",
       "      <td>0.74</td>\n",
       "      <td>33.44</td>\n",
       "      <td>27.28</td>\n",
       "    </tr>\n",
       "    <tr>\n",
       "      <th>9</th>\n",
       "      <td>1994-01-04</td>\n",
       "      <td>1.9</td>\n",
       "      <td>0.75</td>\n",
       "      <td>33.45</td>\n",
       "      <td>27.29</td>\n",
       "    </tr>\n",
       "  </tbody>\n",
       "</table>\n",
       "</div>"
      ],
      "text/plain": [
       "         Date  Water_Depth  Temperature  Salinity_Level  Water_Density\n",
       "0  1994-01-04          0.1         1.10           32.88          26.81\n",
       "1  1994-01-04          0.2         1.02           32.90          26.82\n",
       "2  1994-01-04          0.4         0.92           33.00          26.92\n",
       "3  1994-01-04          0.6         0.91           33.08          26.98\n",
       "4  1994-01-04          0.8         0.87           33.06          26.96\n",
       "5  1994-01-04          1.0         0.80           33.14          27.03\n",
       "6  1994-01-04          1.2         0.76           33.27          27.14\n",
       "7  1994-01-04          1.5         0.74           33.37          27.22\n",
       "8  1994-01-04          1.7         0.74           33.44          27.28\n",
       "9  1994-01-04          1.9         0.75           33.45          27.29"
      ]
     },
     "execution_count": 9,
     "metadata": {},
     "output_type": "execute_result"
    }
   ],
   "source": [
    "df.head(10)"
   ]
  },
  {
   "cell_type": "markdown",
   "id": "96bc9491-99c6-4ad2-b85e-9f281743f972",
   "metadata": {},
   "source": [
    "We can also check what kind of things **df** contains using **dtypes**. What kind of data types our dataframe contains:"
   ]
  },
  {
   "cell_type": "code",
   "execution_count": 10,
   "id": "8c7ace01-0b44-4b34-a99f-a0a1071e4e50",
   "metadata": {
    "tags": []
   },
   "outputs": [
    {
     "data": {
      "text/plain": [
       "Date               object\n",
       "Water_Depth       float64\n",
       "Temperature       float64\n",
       "Salinity_Level    float64\n",
       "Water_Density     float64\n",
       "dtype: object"
      ]
     },
     "execution_count": 10,
     "metadata": {},
     "output_type": "execute_result"
    }
   ],
   "source": [
    "df.dtypes"
   ]
  },
  {
   "cell_type": "markdown",
   "id": "f45602d2-730e-4533-8735-5f118826e1ca",
   "metadata": {},
   "source": [
    "## Explore the DataFrame Object"
   ]
  },
  {
   "cell_type": "markdown",
   "id": "6fc44e37-7fb3-46d1-8609-71b9f1453121",
   "metadata": {},
   "source": [
    "Let’s explore the DataFrame Object further. We will be using both methods and attributes.\n",
    "\n",
    "**Methods** are functions that we can apply to the DataFrame to perform specific operations. They usually require parentheses. If we wish to see the information of a dataframe, we can use the **info()** function:"
   ]
  },
  {
   "cell_type": "code",
   "execution_count": 11,
   "id": "f6df9e95-60e1-4aa8-95e0-890ec065670a",
   "metadata": {
    "tags": []
   },
   "outputs": [
    {
     "name": "stdout",
     "output_type": "stream",
     "text": [
      "<class 'pandas.core.frame.DataFrame'>\n",
      "RangeIndex: 774 entries, 0 to 773\n",
      "Data columns (total 5 columns):\n",
      " #   Column          Non-Null Count  Dtype  \n",
      "---  ------          --------------  -----  \n",
      " 0   Date            774 non-null    object \n",
      " 1   Water_Depth     765 non-null    float64\n",
      " 2   Temperature     769 non-null    float64\n",
      " 3   Salinity_Level  768 non-null    float64\n",
      " 4   Water_Density   770 non-null    float64\n",
      "dtypes: float64(4), object(1)\n",
      "memory usage: 30.4+ KB\n",
      "None\n"
     ]
    }
   ],
   "source": [
    "info = df.info()\n",
    "print(info)"
   ]
  },
  {
   "cell_type": "markdown",
   "id": "dbab06a0-f7c8-4025-94a8-fde14c58c269",
   "metadata": {},
   "source": [
    "This summary provides valuable information about the DataFrame’s structure, data types, and the presence of missing values. It’s a quick overview that helps you understand the content and characteristics of the DataFrame."
   ]
  },
  {
   "cell_type": "markdown",
   "id": "d7d1ce36-3bc1-4712-a7c7-859359434e8e",
   "metadata": {},
   "source": [
    "We can use the **unique()** function to identify the distinct values within a column or an array."
   ]
  },
  {
   "cell_type": "code",
   "execution_count": 12,
   "id": "f520b365-2c7d-48b3-ace7-07edc890967d",
   "metadata": {
    "tags": []
   },
   "outputs": [
    {
     "data": {
      "text/plain": [
       "array(['1994-01-04', '1994-01-11', '1994-01-19', '1994-01-25',\n",
       "       '1994-02-03'], dtype=object)"
      ]
     },
     "execution_count": 12,
     "metadata": {},
     "output_type": "execute_result"
    }
   ],
   "source": [
    "pd.unique(df['Date'])"
   ]
  },
  {
   "cell_type": "markdown",
   "id": "411a4e17-7772-49cc-bc65-7b6243760111",
   "metadata": {},
   "source": [
    "It returns the unique values in the **Date/Time** column."
   ]
  },
  {
   "cell_type": "markdown",
   "id": "6808fbf6-b1cd-450c-ab12-3e5333b43853",
   "metadata": {},
   "source": [
    "**Attributes** are properties of the DataFrame that provide information about its characteristics. They don’t require parentheses. If we wish to see the shape, number of rows and columns, of the dataframe we can use the **shape** attribute:"
   ]
  },
  {
   "cell_type": "code",
   "execution_count": 13,
   "id": "32001e10-bacb-40a6-a002-cfcf49956864",
   "metadata": {
    "tags": []
   },
   "outputs": [
    {
     "data": {
      "text/plain": [
       "(774, 5)"
      ]
     },
     "execution_count": 13,
     "metadata": {},
     "output_type": "execute_result"
    }
   ],
   "source": [
    "shape = df.shape\n",
    "shape"
   ]
  },
  {
   "cell_type": "markdown",
   "id": "9f03b857-bfdd-42c2-bfaa-63c8c5f8c5b4",
   "metadata": {},
   "source": [
    "### Exercise 1\n",
    "What would be the output of the following commands?\n",
    "-  df.tail()\n",
    "-  df.columns\n"
   ]
  },
  {
   "cell_type": "code",
   "execution_count": 17,
   "id": "ab82cadd-8913-4303-b802-ae54d9f7f242",
   "metadata": {},
   "outputs": [
    {
     "data": {
      "text/html": [
       "<div>\n",
       "<style scoped>\n",
       "    .dataframe tbody tr th:only-of-type {\n",
       "        vertical-align: middle;\n",
       "    }\n",
       "\n",
       "    .dataframe tbody tr th {\n",
       "        vertical-align: top;\n",
       "    }\n",
       "\n",
       "    .dataframe thead th {\n",
       "        text-align: right;\n",
       "    }\n",
       "</style>\n",
       "<table border=\"1\" class=\"dataframe\">\n",
       "  <thead>\n",
       "    <tr style=\"text-align: right;\">\n",
       "      <th></th>\n",
       "      <th>Date</th>\n",
       "      <th>Water_Depth</th>\n",
       "      <th>Temperature</th>\n",
       "      <th>Salinity_Level</th>\n",
       "      <th>Water_Density</th>\n",
       "    </tr>\n",
       "  </thead>\n",
       "  <tbody>\n",
       "    <tr>\n",
       "      <th>769</th>\n",
       "      <td>1994-02-03</td>\n",
       "      <td>38.3</td>\n",
       "      <td>0.84</td>\n",
       "      <td>34.19</td>\n",
       "      <td>27.88</td>\n",
       "    </tr>\n",
       "    <tr>\n",
       "      <th>770</th>\n",
       "      <td>1994-02-03</td>\n",
       "      <td>38.6</td>\n",
       "      <td>0.83</td>\n",
       "      <td>34.19</td>\n",
       "      <td>27.88</td>\n",
       "    </tr>\n",
       "    <tr>\n",
       "      <th>771</th>\n",
       "      <td>1994-02-03</td>\n",
       "      <td>38.7</td>\n",
       "      <td>0.83</td>\n",
       "      <td>34.19</td>\n",
       "      <td>27.88</td>\n",
       "    </tr>\n",
       "    <tr>\n",
       "      <th>772</th>\n",
       "      <td>1994-02-03</td>\n",
       "      <td>39.0</td>\n",
       "      <td>0.83</td>\n",
       "      <td>34.19</td>\n",
       "      <td>NaN</td>\n",
       "    </tr>\n",
       "    <tr>\n",
       "      <th>773</th>\n",
       "      <td>1994-02-03</td>\n",
       "      <td>39.1</td>\n",
       "      <td>0.83</td>\n",
       "      <td>34.19</td>\n",
       "      <td>27.88</td>\n",
       "    </tr>\n",
       "  </tbody>\n",
       "</table>\n",
       "</div>"
      ],
      "text/plain": [
       "           Date  Water_Depth  Temperature  Salinity_Level  Water_Density\n",
       "769  1994-02-03         38.3         0.84           34.19          27.88\n",
       "770  1994-02-03         38.6         0.83           34.19          27.88\n",
       "771  1994-02-03         38.7         0.83           34.19          27.88\n",
       "772  1994-02-03         39.0         0.83           34.19            NaN\n",
       "773  1994-02-03         39.1         0.83           34.19          27.88"
      ]
     },
     "execution_count": 17,
     "metadata": {},
     "output_type": "execute_result"
    }
   ],
   "source": [
    "df.tail()"
   ]
  },
  {
   "cell_type": "code",
   "execution_count": 18,
   "id": "5a2a81d7-d9c8-46cd-9e90-8026eec512bd",
   "metadata": {},
   "outputs": [
    {
     "data": {
      "text/plain": [
       "Index(['Date', 'Water_Depth', 'Temperature', 'Salinity_Level',\n",
       "       'Water_Density'],\n",
       "      dtype='object')"
      ]
     },
     "execution_count": 18,
     "metadata": {},
     "output_type": "execute_result"
    }
   ],
   "source": [
    "df.columns"
   ]
  },
  {
   "cell_type": "markdown",
   "id": "ade12d15-70f5-44a0-a512-62e50cc6e2cf",
   "metadata": {},
   "source": [
    "## Selecting Data Using Labels"
   ]
  },
  {
   "cell_type": "markdown",
   "id": "7e72d1d0-0779-4573-b1d2-24be61581828",
   "metadata": {},
   "source": [
    "To select a single column, use the DataFrame’s name followed by the column label in square brackets **['ColumnLabel']**."
   ]
  },
  {
   "cell_type": "code",
   "execution_count": 19,
   "id": "e4951945-e431-49b3-a928-a0cda4886f94",
   "metadata": {
    "tags": []
   },
   "outputs": [
    {
     "data": {
      "text/plain": [
       "0      1.10\n",
       "1      1.02\n",
       "2      0.92\n",
       "3      0.91\n",
       "4      0.87\n",
       "       ... \n",
       "769    0.84\n",
       "770    0.83\n",
       "771    0.83\n",
       "772    0.83\n",
       "773    0.83\n",
       "Name: Temperature, Length: 774, dtype: float64"
      ]
     },
     "execution_count": 19,
     "metadata": {},
     "output_type": "execute_result"
    }
   ],
   "source": [
    "df['Temperature']"
   ]
  },
  {
   "cell_type": "markdown",
   "id": "cb78515b-fcd0-41a3-9a9e-636f4c25478b",
   "metadata": {},
   "source": [
    "We can also use the column name as an *attribute* to access data from that column using **df.Temperature**\n"
   ]
  },
  {
   "cell_type": "code",
   "execution_count": 20,
   "id": "d4be5570-524d-4caf-abdd-69acdd9a9c04",
   "metadata": {
    "tags": []
   },
   "outputs": [
    {
     "data": {
      "text/plain": [
       "0      1.10\n",
       "1      1.02\n",
       "2      0.92\n",
       "3      0.91\n",
       "4      0.87\n",
       "       ... \n",
       "769    0.84\n",
       "770    0.83\n",
       "771    0.83\n",
       "772    0.83\n",
       "773    0.83\n",
       "Name: Temperature, Length: 774, dtype: float64"
      ]
     },
     "execution_count": 20,
     "metadata": {},
     "output_type": "execute_result"
    }
   ],
   "source": [
    "df.Temperature"
   ]
  },
  {
   "cell_type": "markdown",
   "id": "6d646e34-3719-4ab3-8627-8075abb5e7c1",
   "metadata": {},
   "source": [
    "To select multiple columns, enclose the column labels in double square brackets **[['Column1', 'Column2']]**."
   ]
  },
  {
   "cell_type": "code",
   "execution_count": 23,
   "id": "af710cee-6161-402e-8f6d-91254e446667",
   "metadata": {
    "scrolled": true,
    "tags": []
   },
   "outputs": [
    {
     "data": {
      "text/html": [
       "<div>\n",
       "<style scoped>\n",
       "    .dataframe tbody tr th:only-of-type {\n",
       "        vertical-align: middle;\n",
       "    }\n",
       "\n",
       "    .dataframe tbody tr th {\n",
       "        vertical-align: top;\n",
       "    }\n",
       "\n",
       "    .dataframe thead th {\n",
       "        text-align: right;\n",
       "    }\n",
       "</style>\n",
       "<table border=\"1\" class=\"dataframe\">\n",
       "  <thead>\n",
       "    <tr style=\"text-align: right;\">\n",
       "      <th></th>\n",
       "      <th>Date</th>\n",
       "      <th>Temperature</th>\n",
       "    </tr>\n",
       "  </thead>\n",
       "  <tbody>\n",
       "    <tr>\n",
       "      <th>0</th>\n",
       "      <td>1994-01-04</td>\n",
       "      <td>1.10</td>\n",
       "    </tr>\n",
       "    <tr>\n",
       "      <th>1</th>\n",
       "      <td>1994-01-04</td>\n",
       "      <td>1.02</td>\n",
       "    </tr>\n",
       "    <tr>\n",
       "      <th>2</th>\n",
       "      <td>1994-01-04</td>\n",
       "      <td>0.92</td>\n",
       "    </tr>\n",
       "    <tr>\n",
       "      <th>3</th>\n",
       "      <td>1994-01-04</td>\n",
       "      <td>0.91</td>\n",
       "    </tr>\n",
       "    <tr>\n",
       "      <th>4</th>\n",
       "      <td>1994-01-04</td>\n",
       "      <td>0.87</td>\n",
       "    </tr>\n",
       "    <tr>\n",
       "      <th>...</th>\n",
       "      <td>...</td>\n",
       "      <td>...</td>\n",
       "    </tr>\n",
       "    <tr>\n",
       "      <th>769</th>\n",
       "      <td>1994-02-03</td>\n",
       "      <td>0.84</td>\n",
       "    </tr>\n",
       "    <tr>\n",
       "      <th>770</th>\n",
       "      <td>1994-02-03</td>\n",
       "      <td>0.83</td>\n",
       "    </tr>\n",
       "    <tr>\n",
       "      <th>771</th>\n",
       "      <td>1994-02-03</td>\n",
       "      <td>0.83</td>\n",
       "    </tr>\n",
       "    <tr>\n",
       "      <th>772</th>\n",
       "      <td>1994-02-03</td>\n",
       "      <td>0.83</td>\n",
       "    </tr>\n",
       "    <tr>\n",
       "      <th>773</th>\n",
       "      <td>1994-02-03</td>\n",
       "      <td>0.83</td>\n",
       "    </tr>\n",
       "  </tbody>\n",
       "</table>\n",
       "<p>774 rows × 2 columns</p>\n",
       "</div>"
      ],
      "text/plain": [
       "           Date  Temperature\n",
       "0    1994-01-04         1.10\n",
       "1    1994-01-04         1.02\n",
       "2    1994-01-04         0.92\n",
       "3    1994-01-04         0.91\n",
       "4    1994-01-04         0.87\n",
       "..          ...          ...\n",
       "769  1994-02-03         0.84\n",
       "770  1994-02-03         0.83\n",
       "771  1994-02-03         0.83\n",
       "772  1994-02-03         0.83\n",
       "773  1994-02-03         0.83\n",
       "\n",
       "[774 rows x 2 columns]"
      ]
     },
     "execution_count": 23,
     "metadata": {},
     "output_type": "execute_result"
    }
   ],
   "source": [
    "df[['Date','Temperature']]"
   ]
  },
  {
   "cell_type": "markdown",
   "id": "79461f86-7316-40b7-8930-e3ca5564ea67",
   "metadata": {},
   "source": [
    "We can also create a new object and store the result, and later we can access the result from the object."
   ]
  },
  {
   "cell_type": "code",
   "execution_count": 27,
   "id": "df36981a-a58e-44d1-a872-e8def471f376",
   "metadata": {
    "tags": []
   },
   "outputs": [
    {
     "name": "stdout",
     "output_type": "stream",
     "text": [
      "Selected Date and Temperature columns:\n",
      "            Date  Temperature\n",
      "0    1994-01-04         1.10\n",
      "1    1994-01-04         1.02\n",
      "2    1994-01-04         0.92\n",
      "3    1994-01-04         0.91\n",
      "4    1994-01-04         0.87\n",
      "..          ...          ...\n",
      "769  1994-02-03         0.84\n",
      "770  1994-02-03         0.83\n",
      "771  1994-02-03         0.83\n",
      "772  1994-02-03         0.83\n",
      "773  1994-02-03         0.83\n",
      "\n",
      "[774 rows x 2 columns]\n"
     ]
    }
   ],
   "source": [
    "date_temperature_columns = df[['Date', 'Temperature']]\n",
    "print(\"Selected Date and Temperature columns:\\n\",date_temperature_columns)"
   ]
  },
  {
   "cell_type": "markdown",
   "id": "60a22966-80ab-439d-b07f-6d188a7626c2",
   "metadata": {},
   "source": [
    "### Exercise 2\n",
    "What happens if you ask for a column that doesn’t exist?\n",
    "-  df['Time']\n"
   ]
  },
  {
   "cell_type": "code",
   "execution_count": 28,
   "id": "36f39734-b6d2-4a37-9b48-a4d7f36c4e9a",
   "metadata": {
    "tags": []
   },
   "outputs": [
    {
     "ename": "KeyError",
     "evalue": "'Time'",
     "output_type": "error",
     "traceback": [
      "\u001b[0;31m---------------------------------------------------------------------------\u001b[0m",
      "\u001b[0;31mKeyError\u001b[0m                                  Traceback (most recent call last)",
      "File \u001b[0;32m/opt/anaconda3/lib/python3.12/site-packages/pandas/core/indexes/base.py:3805\u001b[0m, in \u001b[0;36mIndex.get_loc\u001b[0;34m(self, key)\u001b[0m\n\u001b[1;32m   3804\u001b[0m \u001b[38;5;28;01mtry\u001b[39;00m:\n\u001b[0;32m-> 3805\u001b[0m     \u001b[38;5;28;01mreturn\u001b[39;00m \u001b[38;5;28mself\u001b[39m\u001b[38;5;241m.\u001b[39m_engine\u001b[38;5;241m.\u001b[39mget_loc(casted_key)\n\u001b[1;32m   3806\u001b[0m \u001b[38;5;28;01mexcept\u001b[39;00m \u001b[38;5;167;01mKeyError\u001b[39;00m \u001b[38;5;28;01mas\u001b[39;00m err:\n",
      "File \u001b[0;32mindex.pyx:167\u001b[0m, in \u001b[0;36mpandas._libs.index.IndexEngine.get_loc\u001b[0;34m()\u001b[0m\n",
      "File \u001b[0;32mindex.pyx:196\u001b[0m, in \u001b[0;36mpandas._libs.index.IndexEngine.get_loc\u001b[0;34m()\u001b[0m\n",
      "File \u001b[0;32mpandas/_libs/hashtable_class_helper.pxi:7081\u001b[0m, in \u001b[0;36mpandas._libs.hashtable.PyObjectHashTable.get_item\u001b[0;34m()\u001b[0m\n",
      "File \u001b[0;32mpandas/_libs/hashtable_class_helper.pxi:7089\u001b[0m, in \u001b[0;36mpandas._libs.hashtable.PyObjectHashTable.get_item\u001b[0;34m()\u001b[0m\n",
      "\u001b[0;31mKeyError\u001b[0m: 'Time'",
      "\nThe above exception was the direct cause of the following exception:\n",
      "\u001b[0;31mKeyError\u001b[0m                                  Traceback (most recent call last)",
      "Cell \u001b[0;32mIn[28], line 1\u001b[0m\n\u001b[0;32m----> 1\u001b[0m df[\u001b[38;5;124m'\u001b[39m\u001b[38;5;124mTime\u001b[39m\u001b[38;5;124m'\u001b[39m]\n",
      "File \u001b[0;32m/opt/anaconda3/lib/python3.12/site-packages/pandas/core/frame.py:4102\u001b[0m, in \u001b[0;36mDataFrame.__getitem__\u001b[0;34m(self, key)\u001b[0m\n\u001b[1;32m   4100\u001b[0m \u001b[38;5;28;01mif\u001b[39;00m \u001b[38;5;28mself\u001b[39m\u001b[38;5;241m.\u001b[39mcolumns\u001b[38;5;241m.\u001b[39mnlevels \u001b[38;5;241m>\u001b[39m \u001b[38;5;241m1\u001b[39m:\n\u001b[1;32m   4101\u001b[0m     \u001b[38;5;28;01mreturn\u001b[39;00m \u001b[38;5;28mself\u001b[39m\u001b[38;5;241m.\u001b[39m_getitem_multilevel(key)\n\u001b[0;32m-> 4102\u001b[0m indexer \u001b[38;5;241m=\u001b[39m \u001b[38;5;28mself\u001b[39m\u001b[38;5;241m.\u001b[39mcolumns\u001b[38;5;241m.\u001b[39mget_loc(key)\n\u001b[1;32m   4103\u001b[0m \u001b[38;5;28;01mif\u001b[39;00m is_integer(indexer):\n\u001b[1;32m   4104\u001b[0m     indexer \u001b[38;5;241m=\u001b[39m [indexer]\n",
      "File \u001b[0;32m/opt/anaconda3/lib/python3.12/site-packages/pandas/core/indexes/base.py:3812\u001b[0m, in \u001b[0;36mIndex.get_loc\u001b[0;34m(self, key)\u001b[0m\n\u001b[1;32m   3807\u001b[0m     \u001b[38;5;28;01mif\u001b[39;00m \u001b[38;5;28misinstance\u001b[39m(casted_key, \u001b[38;5;28mslice\u001b[39m) \u001b[38;5;129;01mor\u001b[39;00m (\n\u001b[1;32m   3808\u001b[0m         \u001b[38;5;28misinstance\u001b[39m(casted_key, abc\u001b[38;5;241m.\u001b[39mIterable)\n\u001b[1;32m   3809\u001b[0m         \u001b[38;5;129;01mand\u001b[39;00m \u001b[38;5;28many\u001b[39m(\u001b[38;5;28misinstance\u001b[39m(x, \u001b[38;5;28mslice\u001b[39m) \u001b[38;5;28;01mfor\u001b[39;00m x \u001b[38;5;129;01min\u001b[39;00m casted_key)\n\u001b[1;32m   3810\u001b[0m     ):\n\u001b[1;32m   3811\u001b[0m         \u001b[38;5;28;01mraise\u001b[39;00m InvalidIndexError(key)\n\u001b[0;32m-> 3812\u001b[0m     \u001b[38;5;28;01mraise\u001b[39;00m \u001b[38;5;167;01mKeyError\u001b[39;00m(key) \u001b[38;5;28;01mfrom\u001b[39;00m \u001b[38;5;21;01merr\u001b[39;00m\n\u001b[1;32m   3813\u001b[0m \u001b[38;5;28;01mexcept\u001b[39;00m \u001b[38;5;167;01mTypeError\u001b[39;00m:\n\u001b[1;32m   3814\u001b[0m     \u001b[38;5;66;03m# If we have a listlike key, _check_indexing_error will raise\u001b[39;00m\n\u001b[1;32m   3815\u001b[0m     \u001b[38;5;66;03m#  InvalidIndexError. Otherwise we fall through and re-raise\u001b[39;00m\n\u001b[1;32m   3816\u001b[0m     \u001b[38;5;66;03m#  the TypeError.\u001b[39;00m\n\u001b[1;32m   3817\u001b[0m     \u001b[38;5;28mself\u001b[39m\u001b[38;5;241m.\u001b[39m_check_indexing_error(key)\n",
      "\u001b[0;31mKeyError\u001b[0m: 'Time'"
     ]
    }
   ],
   "source": [
    "df['Time']"
   ]
  },
  {
   "cell_type": "markdown",
   "id": "f502045f-fafa-4731-8db9-c5b1c43f156d",
   "metadata": {},
   "source": [
    "## Extracting Range-based Subsets (Slicing)\n",
    "Slicing is a technique used to extract a portion or subset of elements from a sequence, such as a list or string. It allows us to specify a range of indices to retrieve a subset of the data.\n",
    "\n",
    "-  Getting Specific Elements\n",
    "-  Getting a Set of Elements\n",
    "-  Getting First Few Elements\n",
    "-  Getting Last Few Elements\n",
    "\n",
    "Let's go through a simple example of a list before moving back to dataframes:\n"
   ]
  },
  {
   "cell_type": "code",
   "execution_count": 41,
   "id": "3356af58-f27c-4eb5-b5ad-a2df5c1af546",
   "metadata": {
    "tags": []
   },
   "outputs": [
    {
     "name": "stdout",
     "output_type": "stream",
     "text": [
      "Element at index 2: 30\n",
      "Subset from index 2 to 4: [30, 40, 50]\n",
      "First three elements:  [10, 20, 30]\n",
      "Last two elements: [70, 80]\n"
     ]
    }
   ],
   "source": [
    "# Sample list\n",
    "my_list = [10,20,30,40,50,60,70,80]\n",
    "\n",
    "#Getting specific elements\n",
    "element_at_index_2 = my_list[2]\n",
    "print(\"Element at index 2:\", element_at_index_2)\n",
    "\n",
    "#Getting a set of elements\n",
    "subset = my_list[2:5] # index 5 is not included\n",
    "print(\"Subset from index 2 to 4:\", subset)\n",
    "\n",
    "#Getting first few elements\n",
    "first_three_elements = my_list[:3]\n",
    "print(\"First three elements: \",first_three_elements)\n",
    "\n",
    "#Getting last few elements\n",
    "last_two_elements = my_list[-2:]\n",
    "print(\"Last two elements:\", last_two_elements)"
   ]
  },
  {
   "cell_type": "markdown",
   "id": "4f23dce8-708f-4b3b-be0d-e8275d0e07ec",
   "metadata": {
    "tags": []
   },
   "source": [
    "### Exercise 3\n",
    "What would be the output of the following command\n",
    "-  my_list[len(my_list)]\n"
   ]
  },
  {
   "cell_type": "code",
   "execution_count": 43,
   "id": "619eaae9-7062-4739-9f1c-d1e5581723ef",
   "metadata": {
    "tags": []
   },
   "outputs": [
    {
     "name": "stdout",
     "output_type": "stream",
     "text": [
      "8\n"
     ]
    }
   ],
   "source": [
    "length = len(my_list)\n",
    "print(length)"
   ]
  },
  {
   "cell_type": "code",
   "execution_count": 45,
   "id": "3437fe09-6637-42ca-b27d-51909cc2e6f8",
   "metadata": {},
   "outputs": [
    {
     "data": {
      "text/plain": [
       "80"
      ]
     },
     "execution_count": 45,
     "metadata": {},
     "output_type": "execute_result"
    }
   ],
   "source": [
    "my_list[length-1]"
   ]
  },
  {
   "cell_type": "markdown",
   "id": "58b4b28e-fea0-4ebb-8aa0-0cb3bfff14c9",
   "metadata": {},
   "source": [
    "## Slicing Rows and Columns\n",
    "Slicing rows and columns simultaneously involves using **.loc** or **.iloc** and specifying the row indices and column labels or indices we want to include.\n",
    "\n",
    "-  **.loc** is label-based indexing, meaning we specify the row and column labels.\n",
    "-  **.iloc** is integer-based indexing, meaning we use integer indices for rows and columns."
   ]
  },
  {
   "cell_type": "markdown",
   "id": "96cc6850-b3b2-4d30-91aa-b712ec4aeec5",
   "metadata": {},
   "source": [
    "#### Using .loc "
   ]
  },
  {
   "cell_type": "code",
   "execution_count": 46,
   "id": "d9fd77d6-0c8d-4ece-8601-4f71c66a9246",
   "metadata": {
    "tags": []
   },
   "outputs": [
    {
     "data": {
      "text/html": [
       "<div>\n",
       "<style scoped>\n",
       "    .dataframe tbody tr th:only-of-type {\n",
       "        vertical-align: middle;\n",
       "    }\n",
       "\n",
       "    .dataframe tbody tr th {\n",
       "        vertical-align: top;\n",
       "    }\n",
       "\n",
       "    .dataframe thead th {\n",
       "        text-align: right;\n",
       "    }\n",
       "</style>\n",
       "<table border=\"1\" class=\"dataframe\">\n",
       "  <thead>\n",
       "    <tr style=\"text-align: right;\">\n",
       "      <th></th>\n",
       "      <th>Date</th>\n",
       "      <th>Salinity_Level</th>\n",
       "    </tr>\n",
       "  </thead>\n",
       "  <tbody>\n",
       "    <tr>\n",
       "      <th>1</th>\n",
       "      <td>1994-01-04</td>\n",
       "      <td>32.90</td>\n",
       "    </tr>\n",
       "    <tr>\n",
       "      <th>2</th>\n",
       "      <td>1994-01-04</td>\n",
       "      <td>33.00</td>\n",
       "    </tr>\n",
       "    <tr>\n",
       "      <th>3</th>\n",
       "      <td>1994-01-04</td>\n",
       "      <td>33.08</td>\n",
       "    </tr>\n",
       "  </tbody>\n",
       "</table>\n",
       "</div>"
      ],
      "text/plain": [
       "         Date  Salinity_Level\n",
       "1  1994-01-04           32.90\n",
       "2  1994-01-04           33.00\n",
       "3  1994-01-04           33.08"
      ]
     },
     "execution_count": 46,
     "metadata": {},
     "output_type": "execute_result"
    }
   ],
   "source": [
    "# Slice rows 1 to 3 and columns 'Date' and 'Salinity_Level' using .loc\n",
    "sliced_rows_columns_loc = df.loc[1:3, ['Date', 'Salinity_Level']]\n",
    "sliced_rows_columns_loc "
   ]
  },
  {
   "cell_type": "markdown",
   "id": "975977fe-a296-4b6a-9205-f1a78b5f2547",
   "metadata": {},
   "source": [
    "Now, if we want to select **‘Date’, ’Water_Depth’, and ‘Salinity_Level’** columns with row labels **“1, 3, 4”**, we can also do this using the below code:"
   ]
  },
  {
   "cell_type": "code",
   "execution_count": 47,
   "id": "c01bc34d-2c1e-42b0-994f-b55523e555b0",
   "metadata": {
    "tags": []
   },
   "outputs": [
    {
     "data": {
      "text/html": [
       "<div>\n",
       "<style scoped>\n",
       "    .dataframe tbody tr th:only-of-type {\n",
       "        vertical-align: middle;\n",
       "    }\n",
       "\n",
       "    .dataframe tbody tr th {\n",
       "        vertical-align: top;\n",
       "    }\n",
       "\n",
       "    .dataframe thead th {\n",
       "        text-align: right;\n",
       "    }\n",
       "</style>\n",
       "<table border=\"1\" class=\"dataframe\">\n",
       "  <thead>\n",
       "    <tr style=\"text-align: right;\">\n",
       "      <th></th>\n",
       "      <th>Date</th>\n",
       "      <th>Water_Depth</th>\n",
       "      <th>Salinity_Level</th>\n",
       "    </tr>\n",
       "  </thead>\n",
       "  <tbody>\n",
       "    <tr>\n",
       "      <th>1</th>\n",
       "      <td>1994-01-04</td>\n",
       "      <td>0.2</td>\n",
       "      <td>32.90</td>\n",
       "    </tr>\n",
       "    <tr>\n",
       "      <th>3</th>\n",
       "      <td>1994-01-04</td>\n",
       "      <td>0.6</td>\n",
       "      <td>33.08</td>\n",
       "    </tr>\n",
       "    <tr>\n",
       "      <th>4</th>\n",
       "      <td>1994-01-04</td>\n",
       "      <td>0.8</td>\n",
       "      <td>33.06</td>\n",
       "    </tr>\n",
       "  </tbody>\n",
       "</table>\n",
       "</div>"
      ],
      "text/plain": [
       "         Date  Water_Depth  Salinity_Level\n",
       "1  1994-01-04          0.2           32.90\n",
       "3  1994-01-04          0.6           33.08\n",
       "4  1994-01-04          0.8           33.06"
      ]
     },
     "execution_count": 47,
     "metadata": {},
     "output_type": "execute_result"
    }
   ],
   "source": [
    "sliced_rows_columns_loc2 = df.loc[[1,3,4],['Date','Water_Depth','Salinity_Level']]\n",
    "sliced_rows_columns_loc2"
   ]
  },
  {
   "cell_type": "markdown",
   "id": "31f06688-f84d-444c-82ec-b964681aeb12",
   "metadata": {},
   "source": [
    "### Using .iloc: "
   ]
  },
  {
   "cell_type": "code",
   "execution_count": 48,
   "id": "ba99110c-5f35-45b8-9c1a-d4065b57a616",
   "metadata": {
    "tags": []
   },
   "outputs": [
    {
     "data": {
      "text/html": [
       "<div>\n",
       "<style scoped>\n",
       "    .dataframe tbody tr th:only-of-type {\n",
       "        vertical-align: middle;\n",
       "    }\n",
       "\n",
       "    .dataframe tbody tr th {\n",
       "        vertical-align: top;\n",
       "    }\n",
       "\n",
       "    .dataframe thead th {\n",
       "        text-align: right;\n",
       "    }\n",
       "</style>\n",
       "<table border=\"1\" class=\"dataframe\">\n",
       "  <thead>\n",
       "    <tr style=\"text-align: right;\">\n",
       "      <th></th>\n",
       "      <th>Water_Depth</th>\n",
       "      <th>Temperature</th>\n",
       "      <th>Salinity_Level</th>\n",
       "    </tr>\n",
       "  </thead>\n",
       "  <tbody>\n",
       "    <tr>\n",
       "      <th>1</th>\n",
       "      <td>0.2</td>\n",
       "      <td>1.02</td>\n",
       "      <td>32.90</td>\n",
       "    </tr>\n",
       "    <tr>\n",
       "      <th>2</th>\n",
       "      <td>0.4</td>\n",
       "      <td>0.92</td>\n",
       "      <td>33.00</td>\n",
       "    </tr>\n",
       "    <tr>\n",
       "      <th>3</th>\n",
       "      <td>0.6</td>\n",
       "      <td>0.91</td>\n",
       "      <td>33.08</td>\n",
       "    </tr>\n",
       "  </tbody>\n",
       "</table>\n",
       "</div>"
      ],
      "text/plain": [
       "   Water_Depth  Temperature  Salinity_Level\n",
       "1          0.2         1.02           32.90\n",
       "2          0.4         0.92           33.00\n",
       "3          0.6         0.91           33.08"
      ]
     },
     "execution_count": 48,
     "metadata": {},
     "output_type": "execute_result"
    }
   ],
   "source": [
    "#Slice rows at index 1 to 3 and columns 1 to 3 using .iloc\n",
    "sliced_rows_columns_iloc = df.iloc[1:4, 1:4]\n",
    "sliced_rows_columns_iloc"
   ]
  },
  {
   "cell_type": "markdown",
   "id": "4e0cee50-147c-44d1-ae0e-f7d5e2196b61",
   "metadata": {},
   "source": [
    "In both cases, using *.loc* or *.iloc*, the first argument specifies the rows to include, and the second argument specifies the columns to include. "
   ]
  },
  {
   "cell_type": "markdown",
   "id": "6a357a52-e224-4901-bf6b-9385ec3f7744",
   "metadata": {},
   "source": [
    "## Subsetting Data using Criteria\n",
    "Subsetting data using criteria involves selecting a subset of rows from a DataFrame based on specific conditions. This is often done to filter out rows that meet certain criteria or to focus on specific data points that are relevant to our analysis. \n",
    "\n",
    "We can use conditional statements to filter rows based on specific criteria. The condition is typically applied to a column, and rows meeting the condition are retained.\n",
    "\n",
    "For example, let’s say we want to subset the DataFrame to only include samples with water depth greater than 25 meters:\n"
   ]
  },
  {
   "cell_type": "code",
   "execution_count": 49,
   "id": "0dcfed9b-26ca-405f-9848-a853c32d280d",
   "metadata": {
    "tags": []
   },
   "outputs": [
    {
     "data": {
      "text/html": [
       "<div>\n",
       "<style scoped>\n",
       "    .dataframe tbody tr th:only-of-type {\n",
       "        vertical-align: middle;\n",
       "    }\n",
       "\n",
       "    .dataframe tbody tr th {\n",
       "        vertical-align: top;\n",
       "    }\n",
       "\n",
       "    .dataframe thead th {\n",
       "        text-align: right;\n",
       "    }\n",
       "</style>\n",
       "<table border=\"1\" class=\"dataframe\">\n",
       "  <thead>\n",
       "    <tr style=\"text-align: right;\">\n",
       "      <th></th>\n",
       "      <th>Date</th>\n",
       "      <th>Water_Depth</th>\n",
       "      <th>Temperature</th>\n",
       "      <th>Salinity_Level</th>\n",
       "      <th>Water_Density</th>\n",
       "    </tr>\n",
       "  </thead>\n",
       "  <tbody>\n",
       "    <tr>\n",
       "      <th>131</th>\n",
       "      <td>1994-01-04</td>\n",
       "      <td>25.2</td>\n",
       "      <td>0.56</td>\n",
       "      <td>34.13</td>\n",
       "      <td>27.84</td>\n",
       "    </tr>\n",
       "    <tr>\n",
       "      <th>132</th>\n",
       "      <td>1994-01-04</td>\n",
       "      <td>25.3</td>\n",
       "      <td>0.55</td>\n",
       "      <td>34.13</td>\n",
       "      <td>27.85</td>\n",
       "    </tr>\n",
       "    <tr>\n",
       "      <th>133</th>\n",
       "      <td>1994-01-04</td>\n",
       "      <td>25.5</td>\n",
       "      <td>0.55</td>\n",
       "      <td>34.13</td>\n",
       "      <td>27.85</td>\n",
       "    </tr>\n",
       "    <tr>\n",
       "      <th>134</th>\n",
       "      <td>1994-01-04</td>\n",
       "      <td>25.7</td>\n",
       "      <td>0.55</td>\n",
       "      <td>34.13</td>\n",
       "      <td>27.85</td>\n",
       "    </tr>\n",
       "    <tr>\n",
       "      <th>135</th>\n",
       "      <td>1994-01-04</td>\n",
       "      <td>25.9</td>\n",
       "      <td>0.55</td>\n",
       "      <td>NaN</td>\n",
       "      <td>27.85</td>\n",
       "    </tr>\n",
       "    <tr>\n",
       "      <th>...</th>\n",
       "      <td>...</td>\n",
       "      <td>...</td>\n",
       "      <td>...</td>\n",
       "      <td>...</td>\n",
       "      <td>...</td>\n",
       "    </tr>\n",
       "    <tr>\n",
       "      <th>769</th>\n",
       "      <td>1994-02-03</td>\n",
       "      <td>38.3</td>\n",
       "      <td>0.84</td>\n",
       "      <td>34.19</td>\n",
       "      <td>27.88</td>\n",
       "    </tr>\n",
       "    <tr>\n",
       "      <th>770</th>\n",
       "      <td>1994-02-03</td>\n",
       "      <td>38.6</td>\n",
       "      <td>0.83</td>\n",
       "      <td>34.19</td>\n",
       "      <td>27.88</td>\n",
       "    </tr>\n",
       "    <tr>\n",
       "      <th>771</th>\n",
       "      <td>1994-02-03</td>\n",
       "      <td>38.7</td>\n",
       "      <td>0.83</td>\n",
       "      <td>34.19</td>\n",
       "      <td>27.88</td>\n",
       "    </tr>\n",
       "    <tr>\n",
       "      <th>772</th>\n",
       "      <td>1994-02-03</td>\n",
       "      <td>39.0</td>\n",
       "      <td>0.83</td>\n",
       "      <td>34.19</td>\n",
       "      <td>NaN</td>\n",
       "    </tr>\n",
       "    <tr>\n",
       "      <th>773</th>\n",
       "      <td>1994-02-03</td>\n",
       "      <td>39.1</td>\n",
       "      <td>0.83</td>\n",
       "      <td>34.19</td>\n",
       "      <td>27.88</td>\n",
       "    </tr>\n",
       "  </tbody>\n",
       "</table>\n",
       "<p>229 rows × 5 columns</p>\n",
       "</div>"
      ],
      "text/plain": [
       "           Date  Water_Depth  Temperature  Salinity_Level  Water_Density\n",
       "131  1994-01-04         25.2         0.56           34.13          27.84\n",
       "132  1994-01-04         25.3         0.55           34.13          27.85\n",
       "133  1994-01-04         25.5         0.55           34.13          27.85\n",
       "134  1994-01-04         25.7         0.55           34.13          27.85\n",
       "135  1994-01-04         25.9         0.55             NaN          27.85\n",
       "..          ...          ...          ...             ...            ...\n",
       "769  1994-02-03         38.3         0.84           34.19          27.88\n",
       "770  1994-02-03         38.6         0.83           34.19          27.88\n",
       "771  1994-02-03         38.7         0.83           34.19          27.88\n",
       "772  1994-02-03         39.0         0.83           34.19            NaN\n",
       "773  1994-02-03         39.1         0.83           34.19          27.88\n",
       "\n",
       "[229 rows x 5 columns]"
      ]
     },
     "execution_count": 49,
     "metadata": {},
     "output_type": "execute_result"
    }
   ],
   "source": [
    "#Subset data for samples with Water_Depth > 25\n",
    "subset_water_depth_25 = df[ df['Water_Depth'] > 25 ]\n",
    "subset_water_depth_25"
   ]
  },
  {
   "cell_type": "markdown",
   "id": "1b8485ec-d0b2-47f8-96be-e04a0eeaff9c",
   "metadata": {},
   "source": [
    "Also, we can combine multiple criteria using logical operators such as **&** *(AND)* and **|** *(OR)* to create more complex conditions.\n",
    "\n",
    "For instance, to subset the DataFrame for samples with water depth greater than 25 meters and salinity levels greater than 33."
   ]
  },
  {
   "cell_type": "code",
   "execution_count": 51,
   "id": "cefd3afa-0c27-435b-a8d0-47bf4f3cd5f7",
   "metadata": {
    "tags": []
   },
   "outputs": [
    {
     "data": {
      "text/html": [
       "<div>\n",
       "<style scoped>\n",
       "    .dataframe tbody tr th:only-of-type {\n",
       "        vertical-align: middle;\n",
       "    }\n",
       "\n",
       "    .dataframe tbody tr th {\n",
       "        vertical-align: top;\n",
       "    }\n",
       "\n",
       "    .dataframe thead th {\n",
       "        text-align: right;\n",
       "    }\n",
       "</style>\n",
       "<table border=\"1\" class=\"dataframe\">\n",
       "  <thead>\n",
       "    <tr style=\"text-align: right;\">\n",
       "      <th></th>\n",
       "      <th>Date</th>\n",
       "      <th>Water_Depth</th>\n",
       "      <th>Temperature</th>\n",
       "      <th>Salinity_Level</th>\n",
       "      <th>Water_Density</th>\n",
       "    </tr>\n",
       "  </thead>\n",
       "  <tbody>\n",
       "    <tr>\n",
       "      <th>131</th>\n",
       "      <td>1994-01-04</td>\n",
       "      <td>25.2</td>\n",
       "      <td>0.56</td>\n",
       "      <td>34.13</td>\n",
       "      <td>27.84</td>\n",
       "    </tr>\n",
       "    <tr>\n",
       "      <th>132</th>\n",
       "      <td>1994-01-04</td>\n",
       "      <td>25.3</td>\n",
       "      <td>0.55</td>\n",
       "      <td>34.13</td>\n",
       "      <td>27.85</td>\n",
       "    </tr>\n",
       "    <tr>\n",
       "      <th>133</th>\n",
       "      <td>1994-01-04</td>\n",
       "      <td>25.5</td>\n",
       "      <td>0.55</td>\n",
       "      <td>34.13</td>\n",
       "      <td>27.85</td>\n",
       "    </tr>\n",
       "    <tr>\n",
       "      <th>134</th>\n",
       "      <td>1994-01-04</td>\n",
       "      <td>25.7</td>\n",
       "      <td>0.55</td>\n",
       "      <td>34.13</td>\n",
       "      <td>27.85</td>\n",
       "    </tr>\n",
       "    <tr>\n",
       "      <th>136</th>\n",
       "      <td>1994-01-04</td>\n",
       "      <td>26.1</td>\n",
       "      <td>0.55</td>\n",
       "      <td>34.13</td>\n",
       "      <td>27.85</td>\n",
       "    </tr>\n",
       "    <tr>\n",
       "      <th>...</th>\n",
       "      <td>...</td>\n",
       "      <td>...</td>\n",
       "      <td>...</td>\n",
       "      <td>...</td>\n",
       "      <td>...</td>\n",
       "    </tr>\n",
       "    <tr>\n",
       "      <th>769</th>\n",
       "      <td>1994-02-03</td>\n",
       "      <td>38.3</td>\n",
       "      <td>0.84</td>\n",
       "      <td>34.19</td>\n",
       "      <td>27.88</td>\n",
       "    </tr>\n",
       "    <tr>\n",
       "      <th>770</th>\n",
       "      <td>1994-02-03</td>\n",
       "      <td>38.6</td>\n",
       "      <td>0.83</td>\n",
       "      <td>34.19</td>\n",
       "      <td>27.88</td>\n",
       "    </tr>\n",
       "    <tr>\n",
       "      <th>771</th>\n",
       "      <td>1994-02-03</td>\n",
       "      <td>38.7</td>\n",
       "      <td>0.83</td>\n",
       "      <td>34.19</td>\n",
       "      <td>27.88</td>\n",
       "    </tr>\n",
       "    <tr>\n",
       "      <th>772</th>\n",
       "      <td>1994-02-03</td>\n",
       "      <td>39.0</td>\n",
       "      <td>0.83</td>\n",
       "      <td>34.19</td>\n",
       "      <td>NaN</td>\n",
       "    </tr>\n",
       "    <tr>\n",
       "      <th>773</th>\n",
       "      <td>1994-02-03</td>\n",
       "      <td>39.1</td>\n",
       "      <td>0.83</td>\n",
       "      <td>34.19</td>\n",
       "      <td>27.88</td>\n",
       "    </tr>\n",
       "  </tbody>\n",
       "</table>\n",
       "<p>226 rows × 5 columns</p>\n",
       "</div>"
      ],
      "text/plain": [
       "           Date  Water_Depth  Temperature  Salinity_Level  Water_Density\n",
       "131  1994-01-04         25.2         0.56           34.13          27.84\n",
       "132  1994-01-04         25.3         0.55           34.13          27.85\n",
       "133  1994-01-04         25.5         0.55           34.13          27.85\n",
       "134  1994-01-04         25.7         0.55           34.13          27.85\n",
       "136  1994-01-04         26.1         0.55           34.13          27.85\n",
       "..          ...          ...          ...             ...            ...\n",
       "769  1994-02-03         38.3         0.84           34.19          27.88\n",
       "770  1994-02-03         38.6         0.83           34.19          27.88\n",
       "771  1994-02-03         38.7         0.83           34.19          27.88\n",
       "772  1994-02-03         39.0         0.83           34.19            NaN\n",
       "773  1994-02-03         39.1         0.83           34.19          27.88\n",
       "\n",
       "[226 rows x 5 columns]"
      ]
     },
     "execution_count": 51,
     "metadata": {},
     "output_type": "execute_result"
    }
   ],
   "source": [
    "# Subset data for samples with 'Water_Depth' > 25 and Salinity_Level > 33\n",
    "subset_depth_salinity = df[(df['Water_Depth'] > 25) & (df['Salinity_Level'] > 33) ]\n",
    "subset_depth_salinity"
   ]
  },
  {
   "cell_type": "markdown",
   "id": "8d023dab-c6cb-42fd-9d38-91d1209681fa",
   "metadata": {},
   "source": [
    "We can also use the **~** symbol to negate a condition. For example, to subset the DataFrame for samples with a water depth less than or equal to 25 meters:"
   ]
  },
  {
   "cell_type": "code",
   "execution_count": 52,
   "id": "040e282b-bad2-4b41-ae97-725c41ffbb89",
   "metadata": {
    "tags": []
   },
   "outputs": [
    {
     "data": {
      "text/html": [
       "<div>\n",
       "<style scoped>\n",
       "    .dataframe tbody tr th:only-of-type {\n",
       "        vertical-align: middle;\n",
       "    }\n",
       "\n",
       "    .dataframe tbody tr th {\n",
       "        vertical-align: top;\n",
       "    }\n",
       "\n",
       "    .dataframe thead th {\n",
       "        text-align: right;\n",
       "    }\n",
       "</style>\n",
       "<table border=\"1\" class=\"dataframe\">\n",
       "  <thead>\n",
       "    <tr style=\"text-align: right;\">\n",
       "      <th></th>\n",
       "      <th>Date</th>\n",
       "      <th>Water_Depth</th>\n",
       "      <th>Temperature</th>\n",
       "      <th>Salinity_Level</th>\n",
       "      <th>Water_Density</th>\n",
       "    </tr>\n",
       "  </thead>\n",
       "  <tbody>\n",
       "    <tr>\n",
       "      <th>0</th>\n",
       "      <td>1994-01-04</td>\n",
       "      <td>0.1</td>\n",
       "      <td>1.10</td>\n",
       "      <td>32.88</td>\n",
       "      <td>26.81</td>\n",
       "    </tr>\n",
       "    <tr>\n",
       "      <th>1</th>\n",
       "      <td>1994-01-04</td>\n",
       "      <td>0.2</td>\n",
       "      <td>1.02</td>\n",
       "      <td>32.90</td>\n",
       "      <td>26.82</td>\n",
       "    </tr>\n",
       "    <tr>\n",
       "      <th>2</th>\n",
       "      <td>1994-01-04</td>\n",
       "      <td>0.4</td>\n",
       "      <td>0.92</td>\n",
       "      <td>33.00</td>\n",
       "      <td>26.92</td>\n",
       "    </tr>\n",
       "    <tr>\n",
       "      <th>3</th>\n",
       "      <td>1994-01-04</td>\n",
       "      <td>0.6</td>\n",
       "      <td>0.91</td>\n",
       "      <td>33.08</td>\n",
       "      <td>26.98</td>\n",
       "    </tr>\n",
       "    <tr>\n",
       "      <th>4</th>\n",
       "      <td>1994-01-04</td>\n",
       "      <td>0.8</td>\n",
       "      <td>0.87</td>\n",
       "      <td>33.06</td>\n",
       "      <td>26.96</td>\n",
       "    </tr>\n",
       "    <tr>\n",
       "      <th>...</th>\n",
       "      <td>...</td>\n",
       "      <td>...</td>\n",
       "      <td>...</td>\n",
       "      <td>...</td>\n",
       "      <td>...</td>\n",
       "    </tr>\n",
       "    <tr>\n",
       "      <th>712</th>\n",
       "      <td>1994-02-03</td>\n",
       "      <td>23.5</td>\n",
       "      <td>0.90</td>\n",
       "      <td>34.17</td>\n",
       "      <td>27.86</td>\n",
       "    </tr>\n",
       "    <tr>\n",
       "      <th>713</th>\n",
       "      <td>1994-02-03</td>\n",
       "      <td>23.8</td>\n",
       "      <td>0.90</td>\n",
       "      <td>34.17</td>\n",
       "      <td>27.86</td>\n",
       "    </tr>\n",
       "    <tr>\n",
       "      <th>714</th>\n",
       "      <td>1994-02-03</td>\n",
       "      <td>24.1</td>\n",
       "      <td>0.89</td>\n",
       "      <td>34.18</td>\n",
       "      <td>27.87</td>\n",
       "    </tr>\n",
       "    <tr>\n",
       "      <th>715</th>\n",
       "      <td>1994-02-03</td>\n",
       "      <td>24.4</td>\n",
       "      <td>0.89</td>\n",
       "      <td>34.15</td>\n",
       "      <td>27.85</td>\n",
       "    </tr>\n",
       "    <tr>\n",
       "      <th>716</th>\n",
       "      <td>1994-02-03</td>\n",
       "      <td>24.8</td>\n",
       "      <td>0.88</td>\n",
       "      <td>34.16</td>\n",
       "      <td>27.85</td>\n",
       "    </tr>\n",
       "  </tbody>\n",
       "</table>\n",
       "<p>545 rows × 5 columns</p>\n",
       "</div>"
      ],
      "text/plain": [
       "           Date  Water_Depth  Temperature  Salinity_Level  Water_Density\n",
       "0    1994-01-04          0.1         1.10           32.88          26.81\n",
       "1    1994-01-04          0.2         1.02           32.90          26.82\n",
       "2    1994-01-04          0.4         0.92           33.00          26.92\n",
       "3    1994-01-04          0.6         0.91           33.08          26.98\n",
       "4    1994-01-04          0.8         0.87           33.06          26.96\n",
       "..          ...          ...          ...             ...            ...\n",
       "712  1994-02-03         23.5         0.90           34.17          27.86\n",
       "713  1994-02-03         23.8         0.90           34.17          27.86\n",
       "714  1994-02-03         24.1         0.89           34.18          27.87\n",
       "715  1994-02-03         24.4         0.89           34.15          27.85\n",
       "716  1994-02-03         24.8         0.88           34.16          27.85\n",
       "\n",
       "[545 rows x 5 columns]"
      ]
     },
     "execution_count": 52,
     "metadata": {},
     "output_type": "execute_result"
    }
   ],
   "source": [
    "subset_depth_less_25 = df[ ~(df['Water_Depth'] > 25)]\n",
    "subset_depth_less_25"
   ]
  },
  {
   "cell_type": "markdown",
   "id": "089fafe9-6784-4bfe-ad0e-0caab79d0b55",
   "metadata": {},
   "source": [
    "The **isin()** function is used to filter data based on whether values are present in a specified list or iterable. It’s a convenient way to subset data when we want to select rows that match specific values for a particular column.\n",
    "\n",
    "Let’s say we want to select rows where the **‘Date’** column has values **‘1994-01-04’** or **‘1994-01-11’**:\n"
   ]
  },
  {
   "cell_type": "code",
   "execution_count": 53,
   "id": "9ebdcdf3-1b78-4a26-9c51-660e7a96ab64",
   "metadata": {
    "tags": []
   },
   "outputs": [
    {
     "data": {
      "text/html": [
       "<div>\n",
       "<style scoped>\n",
       "    .dataframe tbody tr th:only-of-type {\n",
       "        vertical-align: middle;\n",
       "    }\n",
       "\n",
       "    .dataframe tbody tr th {\n",
       "        vertical-align: top;\n",
       "    }\n",
       "\n",
       "    .dataframe thead th {\n",
       "        text-align: right;\n",
       "    }\n",
       "</style>\n",
       "<table border=\"1\" class=\"dataframe\">\n",
       "  <thead>\n",
       "    <tr style=\"text-align: right;\">\n",
       "      <th></th>\n",
       "      <th>Date</th>\n",
       "      <th>Water_Depth</th>\n",
       "      <th>Temperature</th>\n",
       "      <th>Salinity_Level</th>\n",
       "      <th>Water_Density</th>\n",
       "    </tr>\n",
       "  </thead>\n",
       "  <tbody>\n",
       "    <tr>\n",
       "      <th>0</th>\n",
       "      <td>1994-01-04</td>\n",
       "      <td>0.1</td>\n",
       "      <td>1.10</td>\n",
       "      <td>32.88</td>\n",
       "      <td>26.81</td>\n",
       "    </tr>\n",
       "    <tr>\n",
       "      <th>1</th>\n",
       "      <td>1994-01-04</td>\n",
       "      <td>0.2</td>\n",
       "      <td>1.02</td>\n",
       "      <td>32.90</td>\n",
       "      <td>26.82</td>\n",
       "    </tr>\n",
       "    <tr>\n",
       "      <th>2</th>\n",
       "      <td>1994-01-04</td>\n",
       "      <td>0.4</td>\n",
       "      <td>0.92</td>\n",
       "      <td>33.00</td>\n",
       "      <td>26.92</td>\n",
       "    </tr>\n",
       "    <tr>\n",
       "      <th>3</th>\n",
       "      <td>1994-01-04</td>\n",
       "      <td>0.6</td>\n",
       "      <td>0.91</td>\n",
       "      <td>33.08</td>\n",
       "      <td>26.98</td>\n",
       "    </tr>\n",
       "    <tr>\n",
       "      <th>4</th>\n",
       "      <td>1994-01-04</td>\n",
       "      <td>0.8</td>\n",
       "      <td>0.87</td>\n",
       "      <td>33.06</td>\n",
       "      <td>26.96</td>\n",
       "    </tr>\n",
       "    <tr>\n",
       "      <th>...</th>\n",
       "      <td>...</td>\n",
       "      <td>...</td>\n",
       "      <td>...</td>\n",
       "      <td>...</td>\n",
       "      <td>...</td>\n",
       "    </tr>\n",
       "    <tr>\n",
       "      <th>365</th>\n",
       "      <td>1994-01-11</td>\n",
       "      <td>33.9</td>\n",
       "      <td>0.83</td>\n",
       "      <td>34.06</td>\n",
       "      <td>27.77</td>\n",
       "    </tr>\n",
       "    <tr>\n",
       "      <th>366</th>\n",
       "      <td>1994-01-11</td>\n",
       "      <td>34.0</td>\n",
       "      <td>0.83</td>\n",
       "      <td>34.05</td>\n",
       "      <td>27.77</td>\n",
       "    </tr>\n",
       "    <tr>\n",
       "      <th>367</th>\n",
       "      <td>1994-01-11</td>\n",
       "      <td>34.2</td>\n",
       "      <td>0.83</td>\n",
       "      <td>34.06</td>\n",
       "      <td>27.78</td>\n",
       "    </tr>\n",
       "    <tr>\n",
       "      <th>368</th>\n",
       "      <td>1994-01-11</td>\n",
       "      <td>34.4</td>\n",
       "      <td>0.83</td>\n",
       "      <td>34.06</td>\n",
       "      <td>27.77</td>\n",
       "    </tr>\n",
       "    <tr>\n",
       "      <th>369</th>\n",
       "      <td>1994-01-11</td>\n",
       "      <td>11.5</td>\n",
       "      <td>1.33</td>\n",
       "      <td>32.16</td>\n",
       "      <td>26.22</td>\n",
       "    </tr>\n",
       "  </tbody>\n",
       "</table>\n",
       "<p>370 rows × 5 columns</p>\n",
       "</div>"
      ],
      "text/plain": [
       "           Date  Water_Depth  Temperature  Salinity_Level  Water_Density\n",
       "0    1994-01-04          0.1         1.10           32.88          26.81\n",
       "1    1994-01-04          0.2         1.02           32.90          26.82\n",
       "2    1994-01-04          0.4         0.92           33.00          26.92\n",
       "3    1994-01-04          0.6         0.91           33.08          26.98\n",
       "4    1994-01-04          0.8         0.87           33.06          26.96\n",
       "..          ...          ...          ...             ...            ...\n",
       "365  1994-01-11         33.9         0.83           34.06          27.77\n",
       "366  1994-01-11         34.0         0.83           34.05          27.77\n",
       "367  1994-01-11         34.2         0.83           34.06          27.78\n",
       "368  1994-01-11         34.4         0.83           34.06          27.77\n",
       "369  1994-01-11         11.5         1.33           32.16          26.22\n",
       "\n",
       "[370 rows x 5 columns]"
      ]
     },
     "execution_count": 53,
     "metadata": {},
     "output_type": "execute_result"
    }
   ],
   "source": [
    "subset_date = df[df['Date'].isin(['1994-01-04','1994-01-11'])]\n",
    "subset_date"
   ]
  },
  {
   "cell_type": "markdown",
   "id": "8c2311be-bd3a-40b0-85f2-d3360fc6c5a4",
   "metadata": {},
   "source": [
    "**isnull()** and **notnull()** functions are used to detect missing (NaN) values in a DataFrame. **isnull()** returns a DataFrame of the same shape as the input, with True values indicating missing values. **notnull()** returns the opposite.\n",
    "\n",
    "Let’s say we want to select rows where the ‘Water_Depth’ column *has missing values*:\n"
   ]
  },
  {
   "cell_type": "code",
   "execution_count": 54,
   "id": "565c3edb-54f4-4936-a530-29601d002b63",
   "metadata": {
    "tags": []
   },
   "outputs": [
    {
     "data": {
      "text/html": [
       "<div>\n",
       "<style scoped>\n",
       "    .dataframe tbody tr th:only-of-type {\n",
       "        vertical-align: middle;\n",
       "    }\n",
       "\n",
       "    .dataframe tbody tr th {\n",
       "        vertical-align: top;\n",
       "    }\n",
       "\n",
       "    .dataframe thead th {\n",
       "        text-align: right;\n",
       "    }\n",
       "</style>\n",
       "<table border=\"1\" class=\"dataframe\">\n",
       "  <thead>\n",
       "    <tr style=\"text-align: right;\">\n",
       "      <th></th>\n",
       "      <th>Date</th>\n",
       "      <th>Water_Depth</th>\n",
       "      <th>Temperature</th>\n",
       "      <th>Salinity_Level</th>\n",
       "      <th>Water_Density</th>\n",
       "    </tr>\n",
       "  </thead>\n",
       "  <tbody>\n",
       "    <tr>\n",
       "      <th>15</th>\n",
       "      <td>1994-01-04</td>\n",
       "      <td>NaN</td>\n",
       "      <td>1.13</td>\n",
       "      <td>33.71</td>\n",
       "      <td>27.48</td>\n",
       "    </tr>\n",
       "    <tr>\n",
       "      <th>54</th>\n",
       "      <td>1994-01-04</td>\n",
       "      <td>NaN</td>\n",
       "      <td>1.11</td>\n",
       "      <td>33.94</td>\n",
       "      <td>27.66</td>\n",
       "    </tr>\n",
       "    <tr>\n",
       "      <th>70</th>\n",
       "      <td>1994-01-04</td>\n",
       "      <td>NaN</td>\n",
       "      <td>0.90</td>\n",
       "      <td>34.00</td>\n",
       "      <td>27.72</td>\n",
       "    </tr>\n",
       "    <tr>\n",
       "      <th>155</th>\n",
       "      <td>1994-01-04</td>\n",
       "      <td>NaN</td>\n",
       "      <td>0.51</td>\n",
       "      <td>34.13</td>\n",
       "      <td>27.85</td>\n",
       "    </tr>\n",
       "    <tr>\n",
       "      <th>234</th>\n",
       "      <td>1994-01-11</td>\n",
       "      <td>NaN</td>\n",
       "      <td>1.06</td>\n",
       "      <td>33.82</td>\n",
       "      <td>27.57</td>\n",
       "    </tr>\n",
       "    <tr>\n",
       "      <th>333</th>\n",
       "      <td>1994-01-11</td>\n",
       "      <td>NaN</td>\n",
       "      <td>0.83</td>\n",
       "      <td>34.06</td>\n",
       "      <td>27.77</td>\n",
       "    </tr>\n",
       "    <tr>\n",
       "      <th>389</th>\n",
       "      <td>1994-01-19</td>\n",
       "      <td>NaN</td>\n",
       "      <td>1.50</td>\n",
       "      <td>33.70</td>\n",
       "      <td>27.45</td>\n",
       "    </tr>\n",
       "    <tr>\n",
       "      <th>468</th>\n",
       "      <td>1994-01-19</td>\n",
       "      <td>NaN</td>\n",
       "      <td>1.18</td>\n",
       "      <td>34.07</td>\n",
       "      <td>27.77</td>\n",
       "    </tr>\n",
       "    <tr>\n",
       "      <th>674</th>\n",
       "      <td>1994-02-03</td>\n",
       "      <td>NaN</td>\n",
       "      <td>1.06</td>\n",
       "      <td>34.07</td>\n",
       "      <td>27.77</td>\n",
       "    </tr>\n",
       "  </tbody>\n",
       "</table>\n",
       "</div>"
      ],
      "text/plain": [
       "           Date  Water_Depth  Temperature  Salinity_Level  Water_Density\n",
       "15   1994-01-04          NaN         1.13           33.71          27.48\n",
       "54   1994-01-04          NaN         1.11           33.94          27.66\n",
       "70   1994-01-04          NaN         0.90           34.00          27.72\n",
       "155  1994-01-04          NaN         0.51           34.13          27.85\n",
       "234  1994-01-11          NaN         1.06           33.82          27.57\n",
       "333  1994-01-11          NaN         0.83           34.06          27.77\n",
       "389  1994-01-19          NaN         1.50           33.70          27.45\n",
       "468  1994-01-19          NaN         1.18           34.07          27.77\n",
       "674  1994-02-03          NaN         1.06           34.07          27.77"
      ]
     },
     "execution_count": 54,
     "metadata": {},
     "output_type": "execute_result"
    }
   ],
   "source": [
    "subset_missing_depth = df[df['Water_Depth'].isnull()]\n",
    "subset_missing_depth"
   ]
  },
  {
   "cell_type": "markdown",
   "id": "95b07454-01b6-429a-bc82-99d4c665b80d",
   "metadata": {},
   "source": [
    "Let’s say we want to select rows where the ‘Water_Depth’ column *does not have missing values*:"
   ]
  },
  {
   "cell_type": "code",
   "execution_count": 55,
   "id": "1fb57c4e-b628-4aed-80a3-9f6448b67b15",
   "metadata": {
    "tags": []
   },
   "outputs": [
    {
     "data": {
      "text/html": [
       "<div>\n",
       "<style scoped>\n",
       "    .dataframe tbody tr th:only-of-type {\n",
       "        vertical-align: middle;\n",
       "    }\n",
       "\n",
       "    .dataframe tbody tr th {\n",
       "        vertical-align: top;\n",
       "    }\n",
       "\n",
       "    .dataframe thead th {\n",
       "        text-align: right;\n",
       "    }\n",
       "</style>\n",
       "<table border=\"1\" class=\"dataframe\">\n",
       "  <thead>\n",
       "    <tr style=\"text-align: right;\">\n",
       "      <th></th>\n",
       "      <th>Date</th>\n",
       "      <th>Water_Depth</th>\n",
       "      <th>Temperature</th>\n",
       "      <th>Salinity_Level</th>\n",
       "      <th>Water_Density</th>\n",
       "    </tr>\n",
       "  </thead>\n",
       "  <tbody>\n",
       "    <tr>\n",
       "      <th>0</th>\n",
       "      <td>1994-01-04</td>\n",
       "      <td>0.1</td>\n",
       "      <td>1.10</td>\n",
       "      <td>32.88</td>\n",
       "      <td>26.81</td>\n",
       "    </tr>\n",
       "    <tr>\n",
       "      <th>1</th>\n",
       "      <td>1994-01-04</td>\n",
       "      <td>0.2</td>\n",
       "      <td>1.02</td>\n",
       "      <td>32.90</td>\n",
       "      <td>26.82</td>\n",
       "    </tr>\n",
       "    <tr>\n",
       "      <th>2</th>\n",
       "      <td>1994-01-04</td>\n",
       "      <td>0.4</td>\n",
       "      <td>0.92</td>\n",
       "      <td>33.00</td>\n",
       "      <td>26.92</td>\n",
       "    </tr>\n",
       "    <tr>\n",
       "      <th>3</th>\n",
       "      <td>1994-01-04</td>\n",
       "      <td>0.6</td>\n",
       "      <td>0.91</td>\n",
       "      <td>33.08</td>\n",
       "      <td>26.98</td>\n",
       "    </tr>\n",
       "    <tr>\n",
       "      <th>4</th>\n",
       "      <td>1994-01-04</td>\n",
       "      <td>0.8</td>\n",
       "      <td>0.87</td>\n",
       "      <td>33.06</td>\n",
       "      <td>26.96</td>\n",
       "    </tr>\n",
       "    <tr>\n",
       "      <th>...</th>\n",
       "      <td>...</td>\n",
       "      <td>...</td>\n",
       "      <td>...</td>\n",
       "      <td>...</td>\n",
       "      <td>...</td>\n",
       "    </tr>\n",
       "    <tr>\n",
       "      <th>769</th>\n",
       "      <td>1994-02-03</td>\n",
       "      <td>38.3</td>\n",
       "      <td>0.84</td>\n",
       "      <td>34.19</td>\n",
       "      <td>27.88</td>\n",
       "    </tr>\n",
       "    <tr>\n",
       "      <th>770</th>\n",
       "      <td>1994-02-03</td>\n",
       "      <td>38.6</td>\n",
       "      <td>0.83</td>\n",
       "      <td>34.19</td>\n",
       "      <td>27.88</td>\n",
       "    </tr>\n",
       "    <tr>\n",
       "      <th>771</th>\n",
       "      <td>1994-02-03</td>\n",
       "      <td>38.7</td>\n",
       "      <td>0.83</td>\n",
       "      <td>34.19</td>\n",
       "      <td>27.88</td>\n",
       "    </tr>\n",
       "    <tr>\n",
       "      <th>772</th>\n",
       "      <td>1994-02-03</td>\n",
       "      <td>39.0</td>\n",
       "      <td>0.83</td>\n",
       "      <td>34.19</td>\n",
       "      <td>NaN</td>\n",
       "    </tr>\n",
       "    <tr>\n",
       "      <th>773</th>\n",
       "      <td>1994-02-03</td>\n",
       "      <td>39.1</td>\n",
       "      <td>0.83</td>\n",
       "      <td>34.19</td>\n",
       "      <td>27.88</td>\n",
       "    </tr>\n",
       "  </tbody>\n",
       "</table>\n",
       "<p>765 rows × 5 columns</p>\n",
       "</div>"
      ],
      "text/plain": [
       "           Date  Water_Depth  Temperature  Salinity_Level  Water_Density\n",
       "0    1994-01-04          0.1         1.10           32.88          26.81\n",
       "1    1994-01-04          0.2         1.02           32.90          26.82\n",
       "2    1994-01-04          0.4         0.92           33.00          26.92\n",
       "3    1994-01-04          0.6         0.91           33.08          26.98\n",
       "4    1994-01-04          0.8         0.87           33.06          26.96\n",
       "..          ...          ...          ...             ...            ...\n",
       "769  1994-02-03         38.3         0.84           34.19          27.88\n",
       "770  1994-02-03         38.6         0.83           34.19          27.88\n",
       "771  1994-02-03         38.7         0.83           34.19          27.88\n",
       "772  1994-02-03         39.0         0.83           34.19            NaN\n",
       "773  1994-02-03         39.1         0.83           34.19          27.88\n",
       "\n",
       "[765 rows x 5 columns]"
      ]
     },
     "execution_count": 55,
     "metadata": {},
     "output_type": "execute_result"
    }
   ],
   "source": [
    "subset_notMissing_depth = df[df['Water_Depth'].notnull()]\n",
    "subset_notMissing_depth "
   ]
  },
  {
   "cell_type": "markdown",
   "id": "420f77d1-04d0-47d6-97ae-e3110c0e0233",
   "metadata": {},
   "source": [
    "## Calculating Statistics from Pandas DataFrame\n",
    "We can use Pandas DataFrame’s built-in methods to quickly generate summary statistics for our data. Such as, we can use the **describe()** function to get summary statistics for numerical columns like count, mean, standard deviation, minimum, and maximum."
   ]
  },
  {
   "cell_type": "code",
   "execution_count": 57,
   "id": "c974624d-6316-4949-b16c-a89273f71328",
   "metadata": {
    "tags": []
   },
   "outputs": [
    {
     "data": {
      "text/html": [
       "<div>\n",
       "<style scoped>\n",
       "    .dataframe tbody tr th:only-of-type {\n",
       "        vertical-align: middle;\n",
       "    }\n",
       "\n",
       "    .dataframe tbody tr th {\n",
       "        vertical-align: top;\n",
       "    }\n",
       "\n",
       "    .dataframe thead th {\n",
       "        text-align: right;\n",
       "    }\n",
       "</style>\n",
       "<table border=\"1\" class=\"dataframe\">\n",
       "  <thead>\n",
       "    <tr style=\"text-align: right;\">\n",
       "      <th></th>\n",
       "      <th>Water_Depth</th>\n",
       "      <th>Temperature</th>\n",
       "      <th>Salinity_Level</th>\n",
       "      <th>Water_Density</th>\n",
       "    </tr>\n",
       "  </thead>\n",
       "  <tbody>\n",
       "    <tr>\n",
       "      <th>count</th>\n",
       "      <td>765.000000</td>\n",
       "      <td>769.000000</td>\n",
       "      <td>768.000000</td>\n",
       "      <td>770.000000</td>\n",
       "    </tr>\n",
       "    <tr>\n",
       "      <th>mean</th>\n",
       "      <td>17.707843</td>\n",
       "      <td>1.020455</td>\n",
       "      <td>33.935768</td>\n",
       "      <td>27.664494</td>\n",
       "    </tr>\n",
       "    <tr>\n",
       "      <th>std</th>\n",
       "      <td>10.898713</td>\n",
       "      <td>0.291755</td>\n",
       "      <td>0.324256</td>\n",
       "      <td>0.268713</td>\n",
       "    </tr>\n",
       "    <tr>\n",
       "      <th>min</th>\n",
       "      <td>0.000000</td>\n",
       "      <td>0.470000</td>\n",
       "      <td>31.430000</td>\n",
       "      <td>25.610000</td>\n",
       "    </tr>\n",
       "    <tr>\n",
       "      <th>25%</th>\n",
       "      <td>8.300000</td>\n",
       "      <td>0.830000</td>\n",
       "      <td>33.880000</td>\n",
       "      <td>27.610000</td>\n",
       "    </tr>\n",
       "    <tr>\n",
       "      <th>50%</th>\n",
       "      <td>17.100000</td>\n",
       "      <td>0.980000</td>\n",
       "      <td>34.030000</td>\n",
       "      <td>27.740000</td>\n",
       "    </tr>\n",
       "    <tr>\n",
       "      <th>75%</th>\n",
       "      <td>26.800000</td>\n",
       "      <td>1.210000</td>\n",
       "      <td>34.090000</td>\n",
       "      <td>27.790000</td>\n",
       "    </tr>\n",
       "    <tr>\n",
       "      <th>max</th>\n",
       "      <td>39.700000</td>\n",
       "      <td>1.650000</td>\n",
       "      <td>34.200000</td>\n",
       "      <td>27.890000</td>\n",
       "    </tr>\n",
       "  </tbody>\n",
       "</table>\n",
       "</div>"
      ],
      "text/plain": [
       "       Water_Depth  Temperature  Salinity_Level  Water_Density\n",
       "count   765.000000   769.000000      768.000000     770.000000\n",
       "mean     17.707843     1.020455       33.935768      27.664494\n",
       "std      10.898713     0.291755        0.324256       0.268713\n",
       "min       0.000000     0.470000       31.430000      25.610000\n",
       "25%       8.300000     0.830000       33.880000      27.610000\n",
       "50%      17.100000     0.980000       34.030000      27.740000\n",
       "75%      26.800000     1.210000       34.090000      27.790000\n",
       "max      39.700000     1.650000       34.200000      27.890000"
      ]
     },
     "execution_count": 57,
     "metadata": {},
     "output_type": "execute_result"
    }
   ],
   "source": [
    "df.describe()"
   ]
  },
  {
   "cell_type": "markdown",
   "id": "553efc3d-7b8e-45b2-ba5a-bcd7be923aa4",
   "metadata": {},
   "source": [
    "If we want to calculate the standard deviation of a numerical column we can use **std()** function."
   ]
  },
  {
   "cell_type": "code",
   "execution_count": 61,
   "id": "ef6c4828-da7e-4a8a-9d2d-c7a35985a1b6",
   "metadata": {
    "tags": []
   },
   "outputs": [
    {
     "data": {
      "text/plain": [
       "0.3242557353939062"
      ]
     },
     "execution_count": 61,
     "metadata": {},
     "output_type": "execute_result"
    }
   ],
   "source": [
    "salinity_std = df['Salinity_Level'].std()\n",
    "salinity_std"
   ]
  },
  {
   "cell_type": "markdown",
   "id": "7d012e4d-f0ad-4f25-a34c-e5ba20dfe965",
   "metadata": {},
   "source": [
    "There are many more statistics formulas that you can use, I encourage you to check out the following resources:\n",
    "-  https://www.tutorialspoint.com/python_pandas/python_pandas_descriptive_statistics.htm\n",
    "-  https://www.scaler.com/topics/pandas/statistical-functions-in-pandas/\n",
    "\n",
    "I promise you will have fun!"
   ]
  },
  {
   "cell_type": "markdown",
   "id": "d27e4ac5-4779-4318-90b5-2581ecfb33b8",
   "metadata": {},
   "source": [
    "## Groups in Pandas\n",
    "\n",
    "Frequently, there’s a need to compute summary statistics based on subsets or specific attributes within our dataset. For instance, we might wish to find the summary statistics of the water density of all the samples, we can do it using the following code:"
   ]
  },
  {
   "cell_type": "code",
   "execution_count": 62,
   "id": "1efdaa32-a516-4c2d-b646-0e5c8ca3d159",
   "metadata": {
    "tags": []
   },
   "outputs": [
    {
     "data": {
      "text/plain": [
       "count    770.000000\n",
       "mean      27.664494\n",
       "std        0.268713\n",
       "min       25.610000\n",
       "25%       27.610000\n",
       "50%       27.740000\n",
       "75%       27.790000\n",
       "max       27.890000\n",
       "Name: Water_Density, dtype: float64"
      ]
     },
     "execution_count": 62,
     "metadata": {},
     "output_type": "execute_result"
    }
   ],
   "source": [
    "df['Water_Density'].describe()"
   ]
  },
  {
   "cell_type": "markdown",
   "id": "57e476b9-5dab-441d-ad9a-95c7fbf3070b",
   "metadata": {},
   "source": [
    "Again, we might also want to get only specific information, like the maximum:"
   ]
  },
  {
   "cell_type": "code",
   "execution_count": 63,
   "id": "1bf2b9ba-7959-4e7f-8e61-02e33999d5ed",
   "metadata": {
    "tags": []
   },
   "outputs": [
    {
     "data": {
      "text/plain": [
       "27.89"
      ]
     },
     "execution_count": 63,
     "metadata": {},
     "output_type": "execute_result"
    }
   ],
   "source": [
    "df['Water_Density'].max()"
   ]
  },
  {
   "cell_type": "markdown",
   "id": "59eaced5-3a32-4d5f-b81b-e080bcf9be31",
   "metadata": {},
   "source": [
    "or we can get the average water density:"
   ]
  },
  {
   "cell_type": "code",
   "execution_count": 64,
   "id": "fae2e9a9-c9c5-40fd-ad86-da0a61f617a2",
   "metadata": {
    "tags": []
   },
   "outputs": [
    {
     "data": {
      "text/plain": [
       "27.664493506493507"
      ]
     },
     "execution_count": 64,
     "metadata": {},
     "output_type": "execute_result"
    }
   ],
   "source": [
    "df['Water_Density'].mean()"
   ]
  },
  {
   "cell_type": "markdown",
   "id": "100053e0-7fb6-431e-937c-40bb980b75f3",
   "metadata": {},
   "source": [
    "However, when the intention is to summarize data based on one or more variables, such as Date, the Pandas library offers the **.groupby** method. Once a DataFrame is grouped using this approach, we have the ability to compute summary statistics of the selected grouping."
   ]
  },
  {
   "cell_type": "code",
   "execution_count": 65,
   "id": "91f48b7e-6f14-4013-a5b9-bea49bd7dc7c",
   "metadata": {
    "tags": []
   },
   "outputs": [
    {
     "data": {
      "text/html": [
       "<div>\n",
       "<style scoped>\n",
       "    .dataframe tbody tr th:only-of-type {\n",
       "        vertical-align: middle;\n",
       "    }\n",
       "\n",
       "    .dataframe tbody tr th {\n",
       "        vertical-align: top;\n",
       "    }\n",
       "\n",
       "    .dataframe thead th {\n",
       "        text-align: right;\n",
       "    }\n",
       "</style>\n",
       "<table border=\"1\" class=\"dataframe\">\n",
       "  <thead>\n",
       "    <tr style=\"text-align: right;\">\n",
       "      <th></th>\n",
       "      <th>Water_Depth</th>\n",
       "      <th>Temperature</th>\n",
       "      <th>Salinity_Level</th>\n",
       "      <th>Water_Density</th>\n",
       "    </tr>\n",
       "    <tr>\n",
       "      <th>Date</th>\n",
       "      <th></th>\n",
       "      <th></th>\n",
       "      <th></th>\n",
       "      <th></th>\n",
       "    </tr>\n",
       "  </thead>\n",
       "  <tbody>\n",
       "    <tr>\n",
       "      <th>1994-01-04</th>\n",
       "      <td>19.066667</td>\n",
       "      <td>0.801451</td>\n",
       "      <td>33.973575</td>\n",
       "      <td>27.705641</td>\n",
       "    </tr>\n",
       "    <tr>\n",
       "      <th>1994-01-11</th>\n",
       "      <td>17.074419</td>\n",
       "      <td>0.922081</td>\n",
       "      <td>33.976590</td>\n",
       "      <td>27.703103</td>\n",
       "    </tr>\n",
       "    <tr>\n",
       "      <th>1994-01-19</th>\n",
       "      <td>16.064789</td>\n",
       "      <td>1.360140</td>\n",
       "      <td>33.855524</td>\n",
       "      <td>27.582727</td>\n",
       "    </tr>\n",
       "    <tr>\n",
       "      <th>1994-01-25</th>\n",
       "      <td>16.290000</td>\n",
       "      <td>1.331200</td>\n",
       "      <td>33.736500</td>\n",
       "      <td>27.484545</td>\n",
       "    </tr>\n",
       "    <tr>\n",
       "      <th>1994-02-03</th>\n",
       "      <td>19.111321</td>\n",
       "      <td>0.893188</td>\n",
       "      <td>34.042956</td>\n",
       "      <td>27.757358</td>\n",
       "    </tr>\n",
       "  </tbody>\n",
       "</table>\n",
       "</div>"
      ],
      "text/plain": [
       "            Water_Depth  Temperature  Salinity_Level  Water_Density\n",
       "Date                                                               \n",
       "1994-01-04    19.066667     0.801451       33.973575      27.705641\n",
       "1994-01-11    17.074419     0.922081       33.976590      27.703103\n",
       "1994-01-19    16.064789     1.360140       33.855524      27.582727\n",
       "1994-01-25    16.290000     1.331200       33.736500      27.484545\n",
       "1994-02-03    19.111321     0.893188       34.042956      27.757358"
      ]
     },
     "execution_count": 65,
     "metadata": {},
     "output_type": "execute_result"
    }
   ],
   "source": [
    "grouped_data = df.groupby('Date')\n",
    "grouped_data.mean(numeric_only = True)"
   ]
  },
  {
   "cell_type": "markdown",
   "id": "b0490f0a-1f8d-4f08-9426-45301160cc5a",
   "metadata": {},
   "source": [
    "## Basic Math with Pandas\n",
    "If desired, it’s entirely possible to perform mathematical operations, such as addition or division, on an entire column of our dataframe. \n",
    "\n",
    " \n",
    "Let's multiply the Temperature column by 2:"
   ]
  },
  {
   "cell_type": "code",
   "execution_count": 67,
   "id": "daa4f272-27a0-4b1d-ae78-d9340e32fa90",
   "metadata": {
    "tags": []
   },
   "outputs": [
    {
     "data": {
      "text/plain": [
       "0      2.20\n",
       "1      2.04\n",
       "2      1.84\n",
       "3      1.82\n",
       "4      1.74\n",
       "       ... \n",
       "769    1.68\n",
       "770    1.66\n",
       "771    1.66\n",
       "772    1.66\n",
       "773    1.66\n",
       "Name: Temperature, Length: 774, dtype: float64"
      ]
     },
     "execution_count": 67,
     "metadata": {},
     "output_type": "execute_result"
    }
   ],
   "source": [
    "df['Temperature']*2"
   ]
  },
  {
   "cell_type": "markdown",
   "id": "26008a86-bb53-4112-8e8e-cef3eab52680",
   "metadata": {},
   "source": [
    "## Concatenating DataFrames\n",
    "Concatenating DataFrames refers to combining two or more DataFrames along a particular axis (either rows or columns) to create a single larger DataFrame. This is useful when we have data split across multiple DataFrames and we want to consolidate them into one for analysis or processing.\n",
    "\n",
    "In Pandas, we can use the **concat()** function to concatenate DataFrames. This function provides various options to control how the concatenation should be performed. \n",
    "\n",
    "Let’s say we have two DataFrames, **df1** and **df2**, and we want to concatenate them vertically (along rows):"
   ]
  },
  {
   "cell_type": "code",
   "execution_count": 69,
   "id": "966922e9-209d-4ada-bc61-33f60036e23c",
   "metadata": {
    "tags": []
   },
   "outputs": [
    {
     "data": {
      "text/html": [
       "<div>\n",
       "<style scoped>\n",
       "    .dataframe tbody tr th:only-of-type {\n",
       "        vertical-align: middle;\n",
       "    }\n",
       "\n",
       "    .dataframe tbody tr th {\n",
       "        vertical-align: top;\n",
       "    }\n",
       "\n",
       "    .dataframe thead th {\n",
       "        text-align: right;\n",
       "    }\n",
       "</style>\n",
       "<table border=\"1\" class=\"dataframe\">\n",
       "  <thead>\n",
       "    <tr style=\"text-align: right;\">\n",
       "      <th></th>\n",
       "      <th>A</th>\n",
       "      <th>B</th>\n",
       "    </tr>\n",
       "  </thead>\n",
       "  <tbody>\n",
       "    <tr>\n",
       "      <th>0</th>\n",
       "      <td>1</td>\n",
       "      <td>4</td>\n",
       "    </tr>\n",
       "    <tr>\n",
       "      <th>1</th>\n",
       "      <td>2</td>\n",
       "      <td>5</td>\n",
       "    </tr>\n",
       "    <tr>\n",
       "      <th>2</th>\n",
       "      <td>3</td>\n",
       "      <td>6</td>\n",
       "    </tr>\n",
       "    <tr>\n",
       "      <th>3</th>\n",
       "      <td>7</td>\n",
       "      <td>10</td>\n",
       "    </tr>\n",
       "    <tr>\n",
       "      <th>4</th>\n",
       "      <td>8</td>\n",
       "      <td>11</td>\n",
       "    </tr>\n",
       "    <tr>\n",
       "      <th>5</th>\n",
       "      <td>9</td>\n",
       "      <td>12</td>\n",
       "    </tr>\n",
       "  </tbody>\n",
       "</table>\n",
       "</div>"
      ],
      "text/plain": [
       "   A   B\n",
       "0  1   4\n",
       "1  2   5\n",
       "2  3   6\n",
       "3  7  10\n",
       "4  8  11\n",
       "5  9  12"
      ]
     },
     "execution_count": 69,
     "metadata": {},
     "output_type": "execute_result"
    }
   ],
   "source": [
    "data1 = {'A':[1,2,3], 'B': [4,5,6]}\n",
    "data2 = {'A':[7,8,9], 'B': [10,11,12]}\n",
    "df1 = pd.DataFrame(data1)\n",
    "df2 = pd.DataFrame(data2)\n",
    "\n",
    "concatenated_df = pd.concat([df1,df2], ignore_index = True)\n",
    "concatenated_df"
   ]
  },
  {
   "cell_type": "markdown",
   "id": "f2785eb3-9dcf-475d-997b-79972086b14d",
   "metadata": {},
   "source": [
    "In this example, **pd.concat()** is used to concatenate df1 and df2 vertically into concatenated_df. The **ignore_index=True** argument ensures that the index is reset after concatenation."
   ]
  },
  {
   "cell_type": "markdown",
   "id": "a01418ae-359c-4d4b-b907-8d8ce84e5c64",
   "metadata": {},
   "source": [
    "We can also concatenate DataFrames **horizontally** by specifying **axis=1** as an argument to **pd.concat()**. This will merge the DataFrames along columns."
   ]
  },
  {
   "cell_type": "code",
   "execution_count": 70,
   "id": "49946199-7337-45cd-823e-c35d23e4551d",
   "metadata": {
    "tags": []
   },
   "outputs": [
    {
     "data": {
      "text/html": [
       "<div>\n",
       "<style scoped>\n",
       "    .dataframe tbody tr th:only-of-type {\n",
       "        vertical-align: middle;\n",
       "    }\n",
       "\n",
       "    .dataframe tbody tr th {\n",
       "        vertical-align: top;\n",
       "    }\n",
       "\n",
       "    .dataframe thead th {\n",
       "        text-align: right;\n",
       "    }\n",
       "</style>\n",
       "<table border=\"1\" class=\"dataframe\">\n",
       "  <thead>\n",
       "    <tr style=\"text-align: right;\">\n",
       "      <th></th>\n",
       "      <th>A</th>\n",
       "      <th>B</th>\n",
       "      <th>C</th>\n",
       "      <th>D</th>\n",
       "    </tr>\n",
       "  </thead>\n",
       "  <tbody>\n",
       "    <tr>\n",
       "      <th>0</th>\n",
       "      <td>1</td>\n",
       "      <td>4</td>\n",
       "      <td>7</td>\n",
       "      <td>10</td>\n",
       "    </tr>\n",
       "    <tr>\n",
       "      <th>1</th>\n",
       "      <td>2</td>\n",
       "      <td>5</td>\n",
       "      <td>8</td>\n",
       "      <td>11</td>\n",
       "    </tr>\n",
       "    <tr>\n",
       "      <th>2</th>\n",
       "      <td>3</td>\n",
       "      <td>6</td>\n",
       "      <td>9</td>\n",
       "      <td>12</td>\n",
       "    </tr>\n",
       "  </tbody>\n",
       "</table>\n",
       "</div>"
      ],
      "text/plain": [
       "   A  B  C   D\n",
       "0  1  4  7  10\n",
       "1  2  5  8  11\n",
       "2  3  6  9  12"
      ]
     },
     "execution_count": 70,
     "metadata": {},
     "output_type": "execute_result"
    }
   ],
   "source": [
    "data_1 = {'A':[1,2,3], 'B':[4,5,6]}\n",
    "data_2 = {'C':[7,8,9], 'D':[10,11,12]}\n",
    "df_1 = pd.DataFrame(data_1)\n",
    "df_2 = pd.DataFrame(data_2)\n",
    "\n",
    "concatenated_df_horizontal = pd.concat([df_1,df_2], axis = 1) #axis = 1 means horizontal\n",
    "concatenated_df_horizontal"
   ]
  },
  {
   "cell_type": "markdown",
   "id": "d8bc8873-f133-4cff-9795-36175e06d776",
   "metadata": {},
   "source": [
    "### Exercise 4\n",
    "Consider two DataFrames, df1 and df2, with the following data\n",
    "\n",
    "**import pandas as pd**\n",
    "\n",
    "**data1 = {'A': [1, 2, 3], 'B': [4, 5, 6]}**\n",
    "\n",
    "**data2 = {'A': [7, 8, 9], 'B': [10, 11, 12]}**\n",
    "\n",
    "**df1 = pd.DataFrame(data1)**\n",
    "\n",
    "**df2 = pd.DataFrame(data2)**\n",
    "\n",
    "What will be the output of the following code:\n",
    "\n",
    "**result = pd.concat([df1, df2], axis=1)**\n",
    "\n",
    "**print(result)**\n",
    "\n",
    "Select the correct answer ***(without running the code)***:\n",
    "\n",
    "a) The concatenated DataFrame with columns A, B, A, B\n",
    "\n",
    "b) An error will occur because columns A and B are duplicated\n",
    "\n",
    "c) The concatenated DataFrame with columns A, B, C, D\n",
    "\n"
   ]
  },
  {
   "cell_type": "code",
   "execution_count": 71,
   "id": "188032b4-4905-4408-944f-1bd5b70ea7f0",
   "metadata": {
    "tags": []
   },
   "outputs": [
    {
     "name": "stdout",
     "output_type": "stream",
     "text": [
      "   A  B  A   B\n",
      "0  1  4  7  10\n",
      "1  2  5  8  11\n",
      "2  3  6  9  12\n"
     ]
    }
   ],
   "source": [
    "data1 = {'A': [1, 2, 3], 'B': [4, 5, 6]}\n",
    "\n",
    "data2 = {'A': [7, 8, 9], 'B': [10, 11, 12]}\n",
    "\n",
    "df1 = pd.DataFrame(data1)\n",
    "\n",
    "df2 = pd.DataFrame(data2)\n",
    "result = pd.concat([df1, df2], axis=1)\n",
    "\n",
    "print(result)\n"
   ]
  },
  {
   "cell_type": "markdown",
   "id": "e6e40368-8d8e-4e44-bffe-0ba71adacc43",
   "metadata": {},
   "source": [
    "## Saving Pandas DataFrame\n",
    "\n",
    "We can save a Pandas DataFrame to various file formats using different methods provided by Pandas. Before we move forward with saving  a pandas dataframe, let’s first create a new directory called “Results” within the directory that contains your code."
   ]
  },
  {
   "cell_type": "markdown",
   "id": "b940661f-504d-49de-a6ff-32b61e8089fd",
   "metadata": {},
   "source": [
    "Here are some commonly used methods to save a DataFrame:\n",
    "-  CSV Format: To save a DataFrame to a CSV file, we can use the to_csv() method:\n"
   ]
  },
  {
   "cell_type": "code",
   "execution_count": 72,
   "id": "77ef5e8c-d210-4f76-b164-08d5f11de9a3",
   "metadata": {
    "tags": []
   },
   "outputs": [],
   "source": [
    "output_path = 'Results/output.csv'\n",
    "df.to_csv(output_path, index = False)"
   ]
  },
  {
   "cell_type": "markdown",
   "id": "9cbba400-e842-4d16-83e7-faebc8f2e179",
   "metadata": {},
   "source": [
    "This will save the DataFrame to a CSV file named ‘output.csv’ inside a directory called “Results”, without including the index."
   ]
  },
  {
   "cell_type": "markdown",
   "id": "79e3a4ae-0954-4c0f-a98a-6bddfae5ecbb",
   "metadata": {},
   "source": [
    "-  Excel Format: To save a DataFrame to an Excel file, we can use the to_excel() method:"
   ]
  },
  {
   "cell_type": "code",
   "execution_count": 73,
   "id": "6626932c-e412-449d-8aac-5438bb28a825",
   "metadata": {
    "tags": []
   },
   "outputs": [],
   "source": [
    "output_path_excel = 'Results/output.xlsx'\n",
    "df.to_excel(output_path_excel, index=False)"
   ]
  },
  {
   "cell_type": "markdown",
   "id": "d8f7dede-b50c-4ea1-a5b0-d5cc7eb8302c",
   "metadata": {},
   "source": [
    "This will save the DataFrame to an Excel file named ‘output.xlsx’  inside a directory called “Results”, without including the index.\n"
   ]
  },
  {
   "cell_type": "markdown",
   "id": "925caa47-d869-4763-83e8-63ff962c0918",
   "metadata": {},
   "source": [
    "-  Other Formats: Pandas supports various other formats, including JSON, Parquet, HDF5, and more. We can use the appropriate method based on the desired format:\n",
    "\n",
    "    -   JSON: df.to_json(\"output.json\", orient=\"records\")\n",
    "    -   Parquet: df.to_parquet(\"output.parquet\")\n",
    "    -   HDF5: df.to_hdf(\"output.h5\", key=\"data\")\n",
    "\n",
    "Make sure to replace ‘output’ with your desired file name and extension.\n"
   ]
  }
 ],
 "metadata": {
  "kernelspec": {
   "display_name": "Python 3 (ipykernel)",
   "language": "python",
   "name": "python3"
  },
  "language_info": {
   "codemirror_mode": {
    "name": "ipython",
    "version": 3
   },
   "file_extension": ".py",
   "mimetype": "text/x-python",
   "name": "python",
   "nbconvert_exporter": "python",
   "pygments_lexer": "ipython3",
   "version": "3.12.7"
  }
 },
 "nbformat": 4,
 "nbformat_minor": 5
}
