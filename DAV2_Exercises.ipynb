{
 "cells": [
  {
   "cell_type": "markdown",
   "id": "4448357a-dbcb-4959-982c-772d5cf0a61c",
   "metadata": {},
   "source": [
    "# Data Cleaning and Preparation"
   ]
  },
  {
   "cell_type": "markdown",
   "id": "77e57b81-244d-4dc7-9fc2-3a07cd87e49c",
   "metadata": {},
   "source": [
    "#### Question 1: Import appropriate package and load the dataset\n",
    "Using pandas load the *black_sea_water.csv*"
   ]
  },
  {
   "cell_type": "code",
   "execution_count": 12,
   "id": "301d1d57-6f2e-4793-82d5-4acb8453f094",
   "metadata": {
    "tags": []
   },
   "outputs": [],
   "source": [
    "#Your code goes here"
   ]
  },
  {
   "cell_type": "markdown",
   "id": "94bcc0df-e1d2-4e5e-9915-c8a0d14c9a40",
   "metadata": {
    "tags": []
   },
   "source": [
    "#### Question 2: Complete the 'handle_missing_values' function to handle missing values in the dataset. \n",
    "\n",
    "Iterate each column of the dataframe **df_filled**. Using **fillna()** fill the ***NaN*** values in each column by replacing it with the average (mean) value if it's a numeric column or with the string \"NA\" if it's a text column.\n",
    "\n",
    "*Hint* : You can use numpy to detect if the column's data type is a number with the following condition:\n",
    "-  **if np.issubdtype(df_filled[column].dtype, np.number)**\n"
   ]
  },
  {
   "cell_type": "code",
   "execution_count": 2,
   "id": "18b17a27-c35d-4f4e-b535-708942e8dde4",
   "metadata": {},
   "outputs": [],
   "source": [
    "# Function to handle missing values for both text and numeric columns\n",
    "\n",
    "#Your code goes here"
   ]
  },
  {
   "cell_type": "code",
   "execution_count": 15,
   "id": "85cd7436-6a30-4918-84f6-adc0ac30e9b8",
   "metadata": {
    "tags": []
   },
   "outputs": [],
   "source": [
    "#Call the function and handle missing values for df and print the first rows\n",
    "\n",
    "#Your code goes here"
   ]
  },
  {
   "cell_type": "markdown",
   "id": "cb6889d2-aa3a-4d81-87f9-3d95d824bde6",
   "metadata": {},
   "source": [
    "#### Question 3: Complete the 'handle_outliers' function to handle outliers in the dataset\n",
    "Same as Question 2, iterate each column of the dataframe, detect if the column's data type is a number, if it is then identify outliers using the interquartile range (IQR) method teached in class.  "
   ]
  },
  {
   "cell_type": "code",
   "execution_count": 14,
   "id": "3e5ce67d-5153-445f-8af2-22424dc38b5e",
   "metadata": {},
   "outputs": [],
   "source": [
    "# Function to handle outliers for numeric columns\n",
    "\n",
    "#Your code goes here"
   ]
  },
  {
   "cell_type": "code",
   "execution_count": 16,
   "id": "fbd753da-09df-44e6-8146-813cd50c60ec",
   "metadata": {
    "tags": []
   },
   "outputs": [],
   "source": [
    "#Call the function and handle outliers values for df and print the first rows\n",
    "\n",
    "#Your code goes here"
   ]
  },
  {
   "cell_type": "markdown",
   "id": "f1fc8717-0d07-472b-a1eb-6dabe2d924ec",
   "metadata": {},
   "source": [
    "#### Question 4: Complete the 'handle_duplicates' function to remove duplicates in the dataset\n",
    "Drop duplicates from the **df** dataframe and save it in the **df_deduplicated** variable. Print the shape of the original dataset and the shape of the Deduplicated dataset to compare."
   ]
  },
  {
   "cell_type": "code",
   "execution_count": 17,
   "id": "33d380d0-9a15-4c84-9342-b93adbd02340",
   "metadata": {
    "tags": []
   },
   "outputs": [],
   "source": [
    "# Function to handle duplicates\n",
    "\n",
    "#Your code goes here"
   ]
  },
  {
   "cell_type": "code",
   "execution_count": 18,
   "id": "680e2637-1f30-479e-9cdc-0d21a684f330",
   "metadata": {},
   "outputs": [],
   "source": [
    "#Call the function and handle duplicates in df\n",
    "\n",
    "#Your code goes here"
   ]
  },
  {
   "cell_type": "markdown",
   "id": "6028c285-2008-4858-9dbe-7db63942541f",
   "metadata": {},
   "source": [
    "#### Question 5: Complete the 'standardize_data' function to standardizes the 'Species' column in the dataset\n",
    "Using the following dataset, standarize the *Species* column."
   ]
  },
  {
   "cell_type": "code",
   "execution_count": 8,
   "id": "16f9da61-b52a-4a6c-91bc-8e6d48e74366",
   "metadata": {},
   "outputs": [],
   "source": [
    "data = {\n",
    "    'Species': [' blue whale ', 'great White shark', 'dolphin', 'BLUE whale', 'doLPHin'],\n",
    "    'Count': [5, 2, 13, 4, 11]\n",
    "}\n",
    "df_ocean_species = pd.DataFrame(data)"
   ]
  },
  {
   "cell_type": "code",
   "execution_count": 19,
   "id": "0c818c9f-9aef-41cd-b4f8-e69b202798dc",
   "metadata": {},
   "outputs": [],
   "source": [
    "# Function to address inconsistency and standardize data\n",
    "\n",
    "#Your code goes here"
   ]
  },
  {
   "cell_type": "code",
   "execution_count": 20,
   "id": "e92cf1e1-0d3a-4dc8-ae77-ecd9c727cd30",
   "metadata": {
    "tags": []
   },
   "outputs": [],
   "source": [
    "# Standardize the species names\n",
    "#Your code goes here\n",
    "\n",
    "# Display the original and the standardized DataFrame\n",
    "#Your code goes here"
   ]
  }
 ],
 "metadata": {
  "kernelspec": {
   "display_name": "Python 3 (ipykernel)",
   "language": "python",
   "name": "python3"
  },
  "language_info": {
   "codemirror_mode": {
    "name": "ipython",
    "version": 3
   },
   "file_extension": ".py",
   "mimetype": "text/x-python",
   "name": "python",
   "nbconvert_exporter": "python",
   "pygments_lexer": "ipython3",
   "version": "3.12.7"
  }
 },
 "nbformat": 4,
 "nbformat_minor": 5
}
