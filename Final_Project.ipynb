{
 "cells": [
  {
   "cell_type": "markdown",
   "id": "a549e39f-54ba-48fc-9cc6-a1bd914f12fe",
   "metadata": {},
   "source": [
    "#  Project 1: Data Analysis and Visualization with Real-Life Marine Litter Dataset\n",
    "\n",
    "Now, let's combine everything we have learned so far to work on a real life dataset.\n",
    "\n",
    "This dataset provides valuable information about marine litter found at the seafloor of the southeastern North Sea. It was collected during scientific research aimed at understanding the distribution and impact of marine litter in this area. Here's a breakdown of the dataset description and its columns:\n",
    "\n",
    "- **Citation:** The dataset is attributed to Lars Gutow and published by the Alfred Wegener Institute. It is part of a larger study that investigates marine litter in the North Sea. The dataset can be accessed through the provided DOI link (https://doi.org/10.1594/PANGAEA.890785)\n",
    "\n",
    "- **Location:** The dataset is specific to the North Sea.\n",
    "\n",
    "- **Campaign:** The specific research campaign under which this data was collected was \"HE419\".\n",
    "\n",
    "- **Method/Device:** A beam trawl (BEAM) was used to collect marine litter data from the seafloor.\n",
    "\n",
    "## Dataset Columns:\n",
    "- **Station:** This identifies the specific sampling station where the data was collected.\n",
    "- **Date/Time:** The exact date and time of the sampling at the station.\n",
    "- **Latitude:** The geographic latitude of the sampling point.\n",
    "- **Longitude:** The geographic longitude of the sampling point.\n",
    "- **Elevation [m]:** The depth at which the sampling occurred, measured in meters.\n",
    "- **Litter obj:** This column likely records the specific litter object(s) found during sampling.\n",
    "- **Litter cat:** This column categorizes the types of litter objects identified.\n",
    "- **Litter fish:** This column may provide additional information regarding litter impacts on fish species or related observations.\n",
    "\n",
    "This dataset is crucial for understanding marine pollution in the North Sea. It documents the types and quantities of litter found at various depths and locations, which can help researchers assess the impact of marine litter on marine ecosystems and contribute to environmental management efforts. The detailed metadata allows for effective spatial and temporal analyses, enabling scientists to track changes over time and identify potential sources of pollution."
   ]
  },
  {
   "cell_type": "markdown",
   "id": "09eb4617-99e1-4dc1-bb00-a6c255592ccc",
   "metadata": {},
   "source": [
    "Let’s start by **importing the libraries** we’ll need for our analysis. We’ll use Pandas for data manipulation, NumPy for numerical operations, and Matplotlib and Seaborn for our visualizations. Setting these up first will help us later."
   ]
  },
  {
   "cell_type": "code",
   "execution_count": 1,
   "id": "c80caeb7-8375-466d-9b4e-c6312d87e545",
   "metadata": {},
   "outputs": [],
   "source": [
    "#Your code goes here"
   ]
  },
  {
   "cell_type": "markdown",
   "id": "c4bb1d13-cb8a-40d8-a870-af8cc256214b",
   "metadata": {},
   "source": [
    "Now that we have our libraries ready, let’s **load our dataset** from the CSV file. We’ll display the first few rows so we can get an idea of what the data looks like"
   ]
  },
  {
   "cell_type": "code",
   "execution_count": 2,
   "id": "7706f60a-7407-4b73-80fe-1c9552358fa7",
   "metadata": {},
   "outputs": [],
   "source": [
    "#Your code goes here"
   ]
  },
  {
   "cell_type": "markdown",
   "id": "f47ef12f-5043-48c3-9c9f-40a99198fcd3",
   "metadata": {},
   "source": [
    "Next, we’ll check for any **missing values** in our dataset:"
   ]
  },
  {
   "cell_type": "code",
   "execution_count": 3,
   "id": "37917eb7-96ed-44d3-aa25-4f5484534972",
   "metadata": {},
   "outputs": [],
   "source": [
    "#Your code goes here"
   ]
  },
  {
   "cell_type": "markdown",
   "id": "4f59669a-61ab-4594-b9a4-e232552de3e0",
   "metadata": {},
   "source": [
    "We can see how many missing values are in each column. Now we can get **handle the missing values** by using the **fillna()** function and we can check the missing values in our dataframe again:"
   ]
  },
  {
   "cell_type": "code",
   "execution_count": 4,
   "id": "d807e9c1-1a4a-40ce-a373-ee3c72cd881e",
   "metadata": {},
   "outputs": [],
   "source": [
    "#Your code goes here"
   ]
  },
  {
   "cell_type": "markdown",
   "id": "1c3fdbe2-3d4b-4741-95e8-6809a4cc1013",
   "metadata": {},
   "source": [
    "Let’s also **check for duplicate entries** in our dataset. If we find any, we’ll remove them to ensure our analysis is based on unique observations."
   ]
  },
  {
   "cell_type": "code",
   "execution_count": 5,
   "id": "7363ea6a-4938-4526-ad19-e06ca675ae7e",
   "metadata": {},
   "outputs": [],
   "source": [
    "#Your code goes here"
   ]
  },
  {
   "cell_type": "markdown",
   "id": "648bd5e5-7646-4b91-ac29-6f734d92853b",
   "metadata": {},
   "source": [
    "Now, let’s **handle the outliers** in our dataframe with the *Interquartile Range (IQR)* method:"
   ]
  },
  {
   "cell_type": "code",
   "execution_count": 6,
   "id": "7ead42be-523a-40c7-82a3-e6f4a7d839a5",
   "metadata": {},
   "outputs": [],
   "source": [
    "#Your code goes here"
   ]
  },
  {
   "cell_type": "markdown",
   "id": "ea37d487-3ddf-4b78-8108-48f32dd32327",
   "metadata": {},
   "source": [
    "Let’s **calculate how many times in our datafram were there fish present alongside litter**.\n",
    "\n",
    "We’ll use a condition to check if Litter fish equals 'yes', and then count those occurrences. This will give us a clearer picture of the relationship between litter and fish populations."
   ]
  },
  {
   "cell_type": "code",
   "execution_count": 7,
   "id": "881c57ed-1deb-4b03-82c8-f3484e83f32f",
   "metadata": {},
   "outputs": [],
   "source": [
    "#Your code goes here"
   ]
  },
  {
   "cell_type": "markdown",
   "id": "5842c184-1bc6-47f6-9fb9-12f24f5f95ae",
   "metadata": {},
   "source": [
    "The code checks how many times 'yes' appears in the 'Litter fish' column of litter_data.\n",
    "\n",
    "The result shows how many entries are 'yes' and how many are not."
   ]
  },
  {
   "cell_type": "markdown",
   "id": "4a909999-5566-4f7f-9cfa-75d43e996f4d",
   "metadata": {},
   "source": [
    "Now, let's **filter** the dataset to look specifically at **plastic litter** since it's a significant issue in marine environments. We’ll create a new DataFrame that *contains only plastic litter*. We’ll create a new DataFrame that contains only plastic litter and calculate the percentage of plastic litter in the dataset."
   ]
  },
  {
   "cell_type": "code",
   "execution_count": 8,
   "id": "c9e445b3-e8fc-42ec-960a-4c869f9af729",
   "metadata": {},
   "outputs": [],
   "source": [
    "#Your code goes here"
   ]
  },
  {
   "cell_type": "markdown",
   "id": "faefb289-593e-4f58-87aa-6c63f1e262a7",
   "metadata": {},
   "source": [
    "Next, let’s **slice our DataFrame to focus on the columns that matter for our analysis**. We’ll keep the Station, Date/Time, Litter Object, Litter Category, and Litter Fish columns."
   ]
  },
  {
   "cell_type": "code",
   "execution_count": 9,
   "id": "36becd2e-90ed-4ef1-a7aa-730e4ad3fe38",
   "metadata": {},
   "outputs": [],
   "source": [
    "#Your code goes here"
   ]
  },
  {
   "cell_type": "markdown",
   "id": "6461bd2f-e2ac-497f-bcfe-56dd6c55e081",
   "metadata": {},
   "source": [
    "Let’s **visualize the relationship between different types of litter and the fish populations** associated with them. We’ll create a bar plot to see how many fish species are linked to each litter category."
   ]
  },
  {
   "cell_type": "code",
   "execution_count": 10,
   "id": "ea3d2f29-8713-458c-829f-63bcb39132a0",
   "metadata": {},
   "outputs": [],
   "source": [
    "#Your code goes here"
   ]
  },
  {
   "cell_type": "markdown",
   "id": "9a53b3a9-f92b-4a64-ad06-20a163bb5c8c",
   "metadata": {},
   "source": [
    "Now, let's **analyze how the amount of litter collected changes over time** by visualizing litter counts against the sampling date."
   ]
  },
  {
   "cell_type": "code",
   "execution_count": 11,
   "id": "fc6f06ea-6692-4511-8604-e94c9870e29b",
   "metadata": {},
   "outputs": [],
   "source": [
    "#Your code goes here"
   ]
  },
  {
   "cell_type": "markdown",
   "id": "fb94f572-91b0-4bf8-a18e-b056e674008f",
   "metadata": {},
   "source": [
    "This line plot displays the number of litter objects collected over time. By visualizing litter collection on a timeline, we can identify trends or spikes in litter accumulation, which may correspond to specific events or seasonal patterns, providing insights for further research or action."
   ]
  },
  {
   "cell_type": "markdown",
   "id": "fe352c21-54ca-4a11-a4d1-05b7ac139bee",
   "metadata": {},
   "source": [
    "Now **let's examine the relationship between litter objects and fish populations**. We'll create a count plot to visualize how many different types of litter objects were found in samples where fish were present. First, we'll filter our dataset to include only those entries where Litter fish is marked as 'yes'. This will give us the data specifically related to the interaction between litter and fish."
   ]
  },
  {
   "cell_type": "code",
   "execution_count": 12,
   "id": "64ff7f71-0915-40a0-889d-22744720d155",
   "metadata": {},
   "outputs": [],
   "source": [
    "#Your code goes here"
   ]
  },
  {
   "cell_type": "markdown",
   "id": "31b8b645-b891-4233-941c-e61ef624cc9a",
   "metadata": {},
   "source": [
    "With our graph we can see that there are multiple litter objects that have similar but not the same naming, before we standarize our data let's **check if they fall under the same litter category**:"
   ]
  },
  {
   "cell_type": "code",
   "execution_count": 13,
   "id": "4b18d69a-a215-449a-abe8-4fb8645a2dbe",
   "metadata": {},
   "outputs": [],
   "source": [
    "#Your code goes here"
   ]
  },
  {
   "cell_type": "markdown",
   "id": "8a406ed8-c090-4666-a708-9452f1619eca",
   "metadata": {},
   "source": [
    "With this grouping we now know that **they are all the same category = 'plastics'**, so our next step is to standarize our data."
   ]
  },
  {
   "cell_type": "markdown",
   "id": "10a97ca4-9951-47ab-bb3a-12551f9627bc",
   "metadata": {},
   "source": [
    "To **standardize the values in the Litter obj column** we can use the Pandas *.replace()* method. Here's how to do that:"
   ]
  },
  {
   "cell_type": "code",
   "execution_count": 14,
   "id": "ad606722-78a1-4cc5-8dae-931e54392e1d",
   "metadata": {},
   "outputs": [],
   "source": [
    "#Your code goes here"
   ]
  },
  {
   "cell_type": "markdown",
   "id": "407abe6f-e813-4ee5-84f1-0e169a8bec91",
   "metadata": {},
   "source": [
    "Next, let's analyze the **relationship between elevation (depth) and litter category** with a boxplot that can show how litter types are distributed across different elevations:"
   ]
  },
  {
   "cell_type": "code",
   "execution_count": 15,
   "id": "f9bb7237-417d-4615-9c11-6b954e1464e0",
   "metadata": {},
   "outputs": [],
   "source": [
    "#Your code goes here"
   ]
  }
 ],
 "metadata": {
  "kernelspec": {
   "display_name": "Python 3 (ipykernel)",
   "language": "python",
   "name": "python3"
  },
  "language_info": {
   "codemirror_mode": {
    "name": "ipython",
    "version": 3
   },
   "file_extension": ".py",
   "mimetype": "text/x-python",
   "name": "python",
   "nbconvert_exporter": "python",
   "pygments_lexer": "ipython3",
   "version": "3.12.7"
  }
 },
 "nbformat": 4,
 "nbformat_minor": 5
}
